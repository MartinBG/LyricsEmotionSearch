{
 "cells": [
  {
   "cell_type": "code",
   "execution_count": 0,
   "metadata": {
    "colab": {},
    "colab_type": "code",
    "id": "Fsp3p8yoqVdH"
   },
   "outputs": [],
   "source": [
    "# !pip install PyLyrics"
   ]
  },
  {
   "cell_type": "code",
   "execution_count": 0,
   "metadata": {
    "colab": {},
    "colab_type": "code",
    "id": "1Gw1XPuyq26i"
   },
   "outputs": [],
   "source": [
    "from PyLyrics import *"
   ]
  },
  {
   "cell_type": "code",
   "execution_count": 3,
   "metadata": {
    "colab": {
     "base_uri": "https://localhost:8080/",
     "height": 54
    },
    "colab_type": "code",
    "executionInfo": {
     "elapsed": 731,
     "status": "ok",
     "timestamp": 1549995279158,
     "user": {
      "displayName": "Martin georgiev",
      "photoUrl": "",
      "userId": "16237398259658512169"
     },
     "user_tz": -120
    },
    "id": "bEGjJKXVsrId",
    "outputId": "84dd60e8-71e8-40a1-c759-fe0aaec9a83b"
   },
   "outputs": [
    {
     "name": "stdout",
     "output_type": "stream",
     "text": [
      "Drive already mounted at /content/gdrive; to attempt to forcibly remount, call drive.mount(\"/content/gdrive\", force_remount=True).\n"
     ]
    }
   ],
   "source": [
    "# from google.colab import drive\n",
    "# drive.mount('/content/gdrive')"
   ]
  },
  {
   "cell_type": "code",
   "execution_count": 5,
   "metadata": {
    "colab": {},
    "colab_type": "code",
    "id": "KUtKbeeV15NL"
   },
   "outputs": [],
   "source": [
    "# home_dir = '/content/gdrive/My Drive/Colab Notebooks/'\n",
    "home_dir = 'data/'"
   ]
  },
  {
   "cell_type": "code",
   "execution_count": 6,
   "metadata": {
    "colab": {},
    "colab_type": "code",
    "id": "uWw4TyMTxE4q"
   },
   "outputs": [],
   "source": [
    "# with open('/content/gdrive/My Drive/Colab Notebooks/moody.txt', 'w') as f:\n",
    "#   f.write('Hello Google Drive!')\n",
    "import pandas\n",
    "df1 = pandas.read_csv(home_dir + 'MoodyLyrics4Q.csv')"
   ]
  },
  {
   "cell_type": "code",
   "execution_count": 7,
   "metadata": {
    "colab": {
     "base_uri": "https://localhost:8080/",
     "height": 142
    },
    "colab_type": "code",
    "executionInfo": {
     "elapsed": 718,
     "status": "ok",
     "timestamp": 1549995288656,
     "user": {
      "displayName": "Martin georgiev",
      "photoUrl": "",
      "userId": "16237398259658512169"
     },
     "user_tz": -120
    },
    "id": "_65drXBE0gOA",
    "outputId": "87a97464-e79c-4f4f-9bf2-388b699ea548"
   },
   "outputs": [
    {
     "data": {
      "text/html": [
       "<div>\n",
       "<style scoped>\n",
       "    .dataframe tbody tr th:only-of-type {\n",
       "        vertical-align: middle;\n",
       "    }\n",
       "\n",
       "    .dataframe tbody tr th {\n",
       "        vertical-align: top;\n",
       "    }\n",
       "\n",
       "    .dataframe thead th {\n",
       "        text-align: right;\n",
       "    }\n",
       "</style>\n",
       "<table border=\"1\" class=\"dataframe\">\n",
       "  <thead>\n",
       "    <tr style=\"text-align: right;\">\n",
       "      <th></th>\n",
       "      <th>index</th>\n",
       "      <th>artist</th>\n",
       "      <th>title</th>\n",
       "      <th>mood</th>\n",
       "    </tr>\n",
       "  </thead>\n",
       "  <tbody>\n",
       "    <tr>\n",
       "      <th>0</th>\n",
       "      <td>ML1</td>\n",
       "      <td>George Michael</td>\n",
       "      <td>I Want Your Sex</td>\n",
       "      <td>happy</td>\n",
       "    </tr>\n",
       "    <tr>\n",
       "      <th>1</th>\n",
       "      <td>ML2</td>\n",
       "      <td>Rob Zombie</td>\n",
       "      <td>Pussy Liquor</td>\n",
       "      <td>angry</td>\n",
       "    </tr>\n",
       "    <tr>\n",
       "      <th>2</th>\n",
       "      <td>ML3</td>\n",
       "      <td>Katatonia</td>\n",
       "      <td>12</td>\n",
       "      <td>sad</td>\n",
       "    </tr>\n",
       "  </tbody>\n",
       "</table>\n",
       "</div>"
      ],
      "text/plain": [
       "  index          artist            title   mood\n",
       "0   ML1  George Michael  I Want Your Sex  happy\n",
       "1   ML2      Rob Zombie     Pussy Liquor  angry\n",
       "2   ML3       Katatonia               12    sad"
      ]
     },
     "execution_count": 7,
     "metadata": {},
     "output_type": "execute_result"
    }
   ],
   "source": [
    "df1[:3]"
   ]
  },
  {
   "cell_type": "code",
   "execution_count": 8,
   "metadata": {
    "colab": {},
    "colab_type": "code",
    "id": "Iqn5DbZr1zAL"
   },
   "outputs": [],
   "source": [
    "df2 = pandas.read_csv(home_dir + 'moody_raw.csv')"
   ]
  },
  {
   "cell_type": "code",
   "execution_count": 9,
   "metadata": {
    "colab": {
     "base_uri": "https://localhost:8080/",
     "height": 142
    },
    "colab_type": "code",
    "executionInfo": {
     "elapsed": 402,
     "status": "ok",
     "timestamp": 1549995288992,
     "user": {
      "displayName": "Martin georgiev",
      "photoUrl": "",
      "userId": "16237398259658512169"
     },
     "user_tz": -120
    },
    "id": "dvmKdSqM25Wy",
    "outputId": "ca6781b8-dcae-4696-af92-5a4195c3e762"
   },
   "outputs": [
    {
     "data": {
      "text/html": [
       "<div>\n",
       "<style scoped>\n",
       "    .dataframe tbody tr th:only-of-type {\n",
       "        vertical-align: middle;\n",
       "    }\n",
       "\n",
       "    .dataframe tbody tr th {\n",
       "        vertical-align: top;\n",
       "    }\n",
       "\n",
       "    .dataframe thead th {\n",
       "        text-align: right;\n",
       "    }\n",
       "</style>\n",
       "<table border=\"1\" class=\"dataframe\">\n",
       "  <thead>\n",
       "    <tr style=\"text-align: right;\">\n",
       "      <th></th>\n",
       "      <th>Index</th>\n",
       "      <th>Artist</th>\n",
       "      <th>Title</th>\n",
       "      <th>Mood</th>\n",
       "    </tr>\n",
       "  </thead>\n",
       "  <tbody>\n",
       "    <tr>\n",
       "      <th>0</th>\n",
       "      <td>ML1</td>\n",
       "      <td>Usher</td>\n",
       "      <td>There Goes My Baby</td>\n",
       "      <td>relaxed</td>\n",
       "    </tr>\n",
       "    <tr>\n",
       "      <th>1</th>\n",
       "      <td>ML2</td>\n",
       "      <td>Da'Ville</td>\n",
       "      <td>On My Mind</td>\n",
       "      <td>relaxed</td>\n",
       "    </tr>\n",
       "    <tr>\n",
       "      <th>2</th>\n",
       "      <td>ML3</td>\n",
       "      <td>Rihanna</td>\n",
       "      <td>Rockstar 101</td>\n",
       "      <td>relaxed</td>\n",
       "    </tr>\n",
       "  </tbody>\n",
       "</table>\n",
       "</div>"
      ],
      "text/plain": [
       "  Index    Artist               Title     Mood\n",
       "0   ML1     Usher  There Goes My Baby  relaxed\n",
       "1   ML2  Da'Ville          On My Mind  relaxed\n",
       "2   ML3   Rihanna       Rockstar 101   relaxed"
      ]
     },
     "execution_count": 9,
     "metadata": {},
     "output_type": "execute_result"
    }
   ],
   "source": [
    "df2[:3]"
   ]
  },
  {
   "cell_type": "code",
   "execution_count": 10,
   "metadata": {
    "colab": {},
    "colab_type": "code",
    "id": "BV5F3lOj2-Dy"
   },
   "outputs": [],
   "source": [
    "values1 = df1.values\n",
    "values2 = df2.values"
   ]
  },
  {
   "cell_type": "code",
   "execution_count": 11,
   "metadata": {
    "colab": {
     "base_uri": "https://localhost:8080/",
     "height": 119
    },
    "colab_type": "code",
    "executionInfo": {
     "elapsed": 352,
     "status": "ok",
     "timestamp": 1549995292555,
     "user": {
      "displayName": "Martin georgiev",
      "photoUrl": "",
      "userId": "16237398259658512169"
     },
     "user_tz": -120
    },
    "id": "XB9loUci3DEP",
    "outputId": "1ec9f292-6e4a-4dc0-c3f1-63001885d8c7"
   },
   "outputs": [
    {
     "name": "stdout",
     "output_type": "stream",
     "text": [
      "[['ML1' 'George Michael' 'I Want Your Sex' 'happy']\n",
      " ['ML2' 'Rob Zombie' 'Pussy Liquor' 'angry']\n",
      " ['ML3' 'Katatonia' '12' 'sad']]\n",
      "[['ML1' 'Usher' 'There Goes My Baby' 'relaxed']\n",
      " ['ML2' \"Da'Ville\" 'On My Mind' 'relaxed']\n",
      " ['ML3' 'Rihanna' 'Rockstar 101 ' 'relaxed']]\n"
     ]
    }
   ],
   "source": [
    "print(values1[:3])\n",
    "print(values2[:3])"
   ]
  },
  {
   "cell_type": "code",
   "execution_count": 18,
   "metadata": {
    "colab": {},
    "colab_type": "code",
    "id": "a-NEerzu3Q38"
   },
   "outputs": [],
   "source": [
    "combined = []\n",
    "for x in values1:\n",
    "    combined.append((x[1], x[2], x[3]))"
   ]
  },
  {
   "cell_type": "code",
   "execution_count": 19,
   "metadata": {},
   "outputs": [
    {
     "data": {
      "text/plain": [
       "2000"
      ]
     },
     "execution_count": 19,
     "metadata": {},
     "output_type": "execute_result"
    }
   ],
   "source": [
    "len(combined)"
   ]
  },
  {
   "cell_type": "code",
   "execution_count": 20,
   "metadata": {
    "colab": {},
    "colab_type": "code",
    "id": "8V-qSyCm4Hy2"
   },
   "outputs": [],
   "source": [
    "for x in values2:\n",
    "    if len([_ for (artist, song, _) in combined if artist == x[1] and song == x[2]]) == 0:\n",
    "        combined.append((x[1],x[2],x[3]))"
   ]
  },
  {
   "cell_type": "code",
   "execution_count": 21,
   "metadata": {},
   "outputs": [
    {
     "data": {
      "text/plain": [
       "4462"
      ]
     },
     "execution_count": 21,
     "metadata": {},
     "output_type": "execute_result"
    }
   ],
   "source": [
    "len(combined)"
   ]
  },
  {
   "cell_type": "code",
   "execution_count": 26,
   "metadata": {},
   "outputs": [
    {
     "data": {
      "text/plain": [
       "[('George Michael', 'I Want Your Sex', 'happy'),\n",
       " ('Rob Zombie', 'Pussy Liquor', 'angry'),\n",
       " ('Katatonia', '12', 'sad'),\n",
       " ('Bing Crosby', 'Swinging On A Star', 'happy'),\n",
       " ('Ludacris', 'Get Back', 'angry'),\n",
       " ('Hole', 'Violet', 'angry'),\n",
       " ('Manic Street Preachers',\n",
       "  \"Ifwhiteamericatoldthetruthforonedayit'sworldwouldfallapart\",\n",
       "  'angry'),\n",
       " ('Emerson Hart', \"If You're Gonna Leave\", 'sad'),\n",
       " ('Megadeth', 'Architecture of Aggression', 'angry'),\n",
       " ('Blondie', 'Heart of Glass', 'happy')]"
      ]
     },
     "execution_count": 26,
     "metadata": {},
     "output_type": "execute_result"
    }
   ],
   "source": [
    "combined[:10]"
   ]
  },
  {
   "cell_type": "code",
   "execution_count": 29,
   "metadata": {},
   "outputs": [],
   "source": [
    "from PyLyrics import *"
   ]
  },
  {
   "cell_type": "code",
   "execution_count": 30,
   "metadata": {
    "colab": {},
    "colab_type": "code",
    "id": "pz-aFg4v5LtP"
   },
   "outputs": [],
   "source": [
    "from pprint import pprint"
   ]
  },
  {
   "cell_type": "code",
   "execution_count": 31,
   "metadata": {
    "colab": {},
    "colab_type": "code",
    "id": "Zow5tlx069cg"
   },
   "outputs": [],
   "source": [
    "from IPython.display import clear_output"
   ]
  },
  {
   "cell_type": "code",
   "execution_count": 32,
   "metadata": {
    "colab": {},
    "colab_type": "code",
    "id": "4EFvj6AF5UDd"
   },
   "outputs": [
    {
     "name": "stdout",
     "output_type": "stream",
     "text": [
      "0.9997758852532497\n"
     ]
    }
   ],
   "source": [
    "dicts = []\n",
    "length = len(combined)\n",
    "for (id, x) in enumerate(combined):\n",
    "    clear_output()\n",
    "    print(id/length)\n",
    "    try:\n",
    "        lyrics = PyLyrics.getLyrics(x[0],x[1])\n",
    "        dicts.append({\n",
    "          'id': id,\n",
    "          'emotion': x[2],\n",
    "          'lyrics': lyrics\n",
    "        })\n",
    "    except:\n",
    "        continue"
   ]
  },
  {
   "cell_type": "code",
   "execution_count": 33,
   "metadata": {
    "colab": {},
    "colab_type": "code",
    "id": "SQT72AauB3eT"
   },
   "outputs": [
    {
     "data": {
      "text/plain": [
       "[{'emotion': 'happy',\n",
       "  'id': 0,\n",
       "  'lyrics': \"There's things that you guess\\nAnd things that you know\\nThere's boys that you can trust\\nAnd girls that you don't\\n\\nThere's little things you hide\\nAnd little things that you show\\nSometimes you think you're gonna get it\\nBut you don't and that's just the way it goes\\n\\nI swear I won't tease you\\nWon't tell you no lies\\nI don't need no bible\\nJust look in my eyes\\n\\nI've waited so long baby\\nNow that we're friends\\nEvery man's got his patience\\nAnd here's where mine ends\\n\\nI want your sex\\nI want your love\\nI want your sex\\nI want your... sex\\n\\nIt's playing on my mind\\nIt's dancing on my soul\\nIt's taken so much time\\nSo why don't you just let me go\\n\\nI'd really like to try\\nOh, I'd really love to know\\nWhen you tell me you're gonna regret it\\nThen I tell you that I love you but you still say NO\\n\\nI swear I won't tease you\\nWon't tell you no lies\\nI don't need no bible\\nJust look in my eyes\\n\\nI've waited so long baby\\nOut in the cold\\nI can't take much more girl\\nI'm losing control\\n\\nI want your sex\\nI want your love\\nI want your sex\\nI want your... sex\\n\\nIt's natural\\nIt's chemical (Let's do it)\\nIt's logical\\nHabitual (Can we do it?)\\n\\nIt's sensual\\nBut most of all...\\nSex is something that we should do\\nSex is something for me and you\\n\\nSex is natural, sex is good\\nNot everybody does it\\nBut everybody should\\nSex is natural, sex is fun\\nSex is best when it's... one on one\\nOne on one\\n\\nI'm not your father\\nI'm not your brother\\nTalk to your sister\\nI am a lover\\n\\nC-c-c-c-come on\\n\\nWhat's your definition of dirty baby\\nWhat do you consider pornography\\nDon't you know I love it till it hurts me baby\\nDon't you think it's time you had sex with me\\n\\nWhat's your definition of dirty baby\\nWhat do you call pornography\\nDon't you know I love it till it hurts me baby\\nDon't you think it's time you had sex with me\\n\\nSex with me\\nSex with me\\nHave sex with me\\n\\nC-c-c-c-come on\"},\n",
       " {'emotion': 'angry',\n",
       "  'id': 1,\n",
       "  'lyrics': \"Baby:\\nGimme a B\\nGimme a A\\nGimme a B\\nGimme a Y\\n\\nWhat's that spell?\\nWhat's that spell?\\nWhat's that spell?\\n\\nCheerleader: Baby\\n\\nEarl had a baby\\nBaby was her name\\nHe knew she was crazy\\nTiny was the same\\nDown behind the shed\\nSlaughtering the hog\\nSlice it on the belly\\nFeed it to the dog\\n\\nOne, two, three, who should I kill?\\nEvery motherfucker running up the hill\\nOne, two, three, what should I do?\\nGet fucked up and fuck up you\\n\\nPussy liquor\\nMake ya sicker\\nPussy liquor\\nDo it quicker\\n\\nBaby: Yeah, I like to get fucked up, fucked up\\nGoober: Yeah, I like to get fucked up too\\nBaby: Yeah, I bet you do\\nBaby: Yeah, I like to get fucked up, fucked up\\nGoober: Yeah, I like to get fucked up too\\nBaby: Yeah, I bet you do\\n\\nEarl had a baby\\nOtis was his name\\nWhite as a ghost, totally insane\\nOtis loves the girls\\nYoung and clean\\nDrowning in a bucket of gasoline\\n\\nOne, two, three, who should I kill?\\nEvery motherfucker running up the hill\\nOne, two, three, what should I do?\\nGet fucked up and fuck up you\\n\\nPussy liquor\\nMake ya sicker\\nPussy liquor\\nDo it quicker\\n\\nBaby: Yeah, I like to get fucked up, fucked up\\nGoober: Yeah, I like to get fucked up too\\nBaby: Yeah, I bet you do\\nBaby: Yeah, I like to get fucked up, fucked up\\nGoober: Yeah, I like to get fucked up too\\nBaby: Yeah, I bet you do\\n\\nDon't you know something\\nThey won't tell\\nTime on my mind\\nSend them to a hell\\nBurnin' in the house\\nSpirits are alive\\nA tongue lashing mama\\nHelp 'em to survive\\n\\nOne, two, three, who should I kill?\\nEvery motherfucker running up the hill\\nOne, two, three, what should I do?\\nGet fucked up and fuck up you\\n\\nPussy liquor\\nMake ya sicker\\nPussy liquor\\nDo it quicker\\n\\nBaby: Yeah, I like to get fucked up, fucked up\\nGoober: Yeah, I like to get a blow job too\\nBaby: Yeah, I bet you do\"},\n",
       " {'emotion': 'sad',\n",
       "  'id': 2,\n",
       "  'lyrics': \"Black theatre of love\\nViolet dancers cast their blood\\nThe moon gave me flowers\\nFor funerals to come\\n\\n12 shapes bow before her\\nI am still one of them\\n12 morbid ways to die\\nHer beauty scares me\\n\\nI'm falling deeper\\nNo more pain to feel now\\nTouch the silence\\nAfraid of hell\\n\\nBlack theatre of love\\nViolet dancers drink my blood\\nThe moon gave me flowers\\nFor funerals to come\\n\\nI cannot breathe\\nI am losing life\\nThe moon paints the skyline blue\\nShe died so beautiful\"}]"
      ]
     },
     "execution_count": 33,
     "metadata": {},
     "output_type": "execute_result"
    }
   ],
   "source": [
    "dicts[:3]"
   ]
  },
  {
   "cell_type": "code",
   "execution_count": null,
   "metadata": {},
   "outputs": [],
   "source": [
    "import json\n",
    "\n",
    "with open(home)"
   ]
  }
 ],
 "metadata": {
  "colab": {
   "collapsed_sections": [],
   "name": "emotionClassifier.ipynb",
   "provenance": [],
   "version": "0.3.2"
  },
  "kernelspec": {
   "display_name": "Python 3",
   "language": "python",
   "name": "python3"
  },
  "language_info": {
   "codemirror_mode": {
    "name": "ipython",
    "version": 3
   },
   "file_extension": ".py",
   "mimetype": "text/x-python",
   "name": "python",
   "nbconvert_exporter": "python",
   "pygments_lexer": "ipython3",
   "version": "3.5.5"
  }
 },
 "nbformat": 4,
 "nbformat_minor": 1
}
