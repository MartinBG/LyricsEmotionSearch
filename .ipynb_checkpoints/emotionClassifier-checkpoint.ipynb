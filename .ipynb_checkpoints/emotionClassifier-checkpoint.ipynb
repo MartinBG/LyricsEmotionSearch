{
 "cells": [
  {
   "cell_type": "code",
   "execution_count": 1,
   "metadata": {
    "colab": {},
    "colab_type": "code",
    "id": "Fsp3p8yoqVdH"
   },
   "outputs": [],
   "source": [
    "# !pip install PyLyrics"
   ]
  },
  {
   "cell_type": "code",
   "execution_count": 2,
   "metadata": {
    "colab": {},
    "colab_type": "code",
    "id": "1Gw1XPuyq26i"
   },
   "outputs": [],
   "source": [
    "from PyLyrics import *"
   ]
  },
  {
   "cell_type": "code",
   "execution_count": 3,
   "metadata": {
    "colab": {
     "base_uri": "https://localhost:8080/",
     "height": 54
    },
    "colab_type": "code",
    "executionInfo": {
     "elapsed": 731,
     "status": "ok",
     "timestamp": 1549995279158,
     "user": {
      "displayName": "Martin georgiev",
      "photoUrl": "",
      "userId": "16237398259658512169"
     },
     "user_tz": -120
    },
    "id": "bEGjJKXVsrId",
    "outputId": "84dd60e8-71e8-40a1-c759-fe0aaec9a83b"
   },
   "outputs": [],
   "source": [
    "# from google.colab import drive\n",
    "# drive.mount('/content/gdrive')"
   ]
  },
  {
   "cell_type": "code",
   "execution_count": 4,
   "metadata": {
    "colab": {},
    "colab_type": "code",
    "id": "KUtKbeeV15NL"
   },
   "outputs": [],
   "source": [
    "# home_dir = '/content/gdrive/My Drive/Colab Notebooks/'\n",
    "home_dir = 'data/'"
   ]
  },
  {
   "cell_type": "code",
   "execution_count": 5,
   "metadata": {
    "colab": {},
    "colab_type": "code",
    "id": "uWw4TyMTxE4q"
   },
   "outputs": [],
   "source": [
    "# with open('/content/gdrive/My Drive/Colab Notebooks/moody.txt', 'w') as f:\n",
    "#   f.write('Hello Google Drive!')\n",
    "import pandas\n",
    "df1 = pandas.read_csv(home_dir + 'MoodyLyrics4Q.csv')"
   ]
  },
  {
   "cell_type": "code",
   "execution_count": 6,
   "metadata": {
    "colab": {
     "base_uri": "https://localhost:8080/",
     "height": 142
    },
    "colab_type": "code",
    "executionInfo": {
     "elapsed": 718,
     "status": "ok",
     "timestamp": 1549995288656,
     "user": {
      "displayName": "Martin georgiev",
      "photoUrl": "",
      "userId": "16237398259658512169"
     },
     "user_tz": -120
    },
    "id": "_65drXBE0gOA",
    "outputId": "87a97464-e79c-4f4f-9bf2-388b699ea548"
   },
   "outputs": [
    {
     "data": {
      "text/html": [
       "<div>\n",
       "<style scoped>\n",
       "    .dataframe tbody tr th:only-of-type {\n",
       "        vertical-align: middle;\n",
       "    }\n",
       "\n",
       "    .dataframe tbody tr th {\n",
       "        vertical-align: top;\n",
       "    }\n",
       "\n",
       "    .dataframe thead th {\n",
       "        text-align: right;\n",
       "    }\n",
       "</style>\n",
       "<table border=\"1\" class=\"dataframe\">\n",
       "  <thead>\n",
       "    <tr style=\"text-align: right;\">\n",
       "      <th></th>\n",
       "      <th>index</th>\n",
       "      <th>artist</th>\n",
       "      <th>title</th>\n",
       "      <th>mood</th>\n",
       "    </tr>\n",
       "  </thead>\n",
       "  <tbody>\n",
       "    <tr>\n",
       "      <th>0</th>\n",
       "      <td>ML1</td>\n",
       "      <td>George Michael</td>\n",
       "      <td>I Want Your Sex</td>\n",
       "      <td>happy</td>\n",
       "    </tr>\n",
       "    <tr>\n",
       "      <th>1</th>\n",
       "      <td>ML2</td>\n",
       "      <td>Rob Zombie</td>\n",
       "      <td>Pussy Liquor</td>\n",
       "      <td>angry</td>\n",
       "    </tr>\n",
       "    <tr>\n",
       "      <th>2</th>\n",
       "      <td>ML3</td>\n",
       "      <td>Katatonia</td>\n",
       "      <td>12</td>\n",
       "      <td>sad</td>\n",
       "    </tr>\n",
       "  </tbody>\n",
       "</table>\n",
       "</div>"
      ],
      "text/plain": [
       "  index          artist            title   mood\n",
       "0   ML1  George Michael  I Want Your Sex  happy\n",
       "1   ML2      Rob Zombie     Pussy Liquor  angry\n",
       "2   ML3       Katatonia               12    sad"
      ]
     },
     "execution_count": 6,
     "metadata": {},
     "output_type": "execute_result"
    }
   ],
   "source": [
    "df1[:3]"
   ]
  },
  {
   "cell_type": "code",
   "execution_count": 7,
   "metadata": {
    "colab": {},
    "colab_type": "code",
    "id": "Iqn5DbZr1zAL"
   },
   "outputs": [],
   "source": [
    "df2 = pandas.read_csv(home_dir + 'moody_raw.csv')"
   ]
  },
  {
   "cell_type": "code",
   "execution_count": 8,
   "metadata": {
    "colab": {
     "base_uri": "https://localhost:8080/",
     "height": 142
    },
    "colab_type": "code",
    "executionInfo": {
     "elapsed": 402,
     "status": "ok",
     "timestamp": 1549995288992,
     "user": {
      "displayName": "Martin georgiev",
      "photoUrl": "",
      "userId": "16237398259658512169"
     },
     "user_tz": -120
    },
    "id": "dvmKdSqM25Wy",
    "outputId": "ca6781b8-dcae-4696-af92-5a4195c3e762"
   },
   "outputs": [
    {
     "data": {
      "text/html": [
       "<div>\n",
       "<style scoped>\n",
       "    .dataframe tbody tr th:only-of-type {\n",
       "        vertical-align: middle;\n",
       "    }\n",
       "\n",
       "    .dataframe tbody tr th {\n",
       "        vertical-align: top;\n",
       "    }\n",
       "\n",
       "    .dataframe thead th {\n",
       "        text-align: right;\n",
       "    }\n",
       "</style>\n",
       "<table border=\"1\" class=\"dataframe\">\n",
       "  <thead>\n",
       "    <tr style=\"text-align: right;\">\n",
       "      <th></th>\n",
       "      <th>Index</th>\n",
       "      <th>Artist</th>\n",
       "      <th>Title</th>\n",
       "      <th>Mood</th>\n",
       "    </tr>\n",
       "  </thead>\n",
       "  <tbody>\n",
       "    <tr>\n",
       "      <th>0</th>\n",
       "      <td>ML1</td>\n",
       "      <td>Usher</td>\n",
       "      <td>There Goes My Baby</td>\n",
       "      <td>relaxed</td>\n",
       "    </tr>\n",
       "    <tr>\n",
       "      <th>1</th>\n",
       "      <td>ML2</td>\n",
       "      <td>Da'Ville</td>\n",
       "      <td>On My Mind</td>\n",
       "      <td>relaxed</td>\n",
       "    </tr>\n",
       "    <tr>\n",
       "      <th>2</th>\n",
       "      <td>ML3</td>\n",
       "      <td>Rihanna</td>\n",
       "      <td>Rockstar 101</td>\n",
       "      <td>relaxed</td>\n",
       "    </tr>\n",
       "  </tbody>\n",
       "</table>\n",
       "</div>"
      ],
      "text/plain": [
       "  Index    Artist               Title     Mood\n",
       "0   ML1     Usher  There Goes My Baby  relaxed\n",
       "1   ML2  Da'Ville          On My Mind  relaxed\n",
       "2   ML3   Rihanna       Rockstar 101   relaxed"
      ]
     },
     "execution_count": 8,
     "metadata": {},
     "output_type": "execute_result"
    }
   ],
   "source": [
    "df2[:3]"
   ]
  },
  {
   "cell_type": "code",
   "execution_count": 9,
   "metadata": {
    "colab": {},
    "colab_type": "code",
    "id": "BV5F3lOj2-Dy"
   },
   "outputs": [],
   "source": [
    "values1 = df1.values\n",
    "values2 = df2.values"
   ]
  },
  {
   "cell_type": "code",
   "execution_count": 10,
   "metadata": {
    "colab": {
     "base_uri": "https://localhost:8080/",
     "height": 119
    },
    "colab_type": "code",
    "executionInfo": {
     "elapsed": 352,
     "status": "ok",
     "timestamp": 1549995292555,
     "user": {
      "displayName": "Martin georgiev",
      "photoUrl": "",
      "userId": "16237398259658512169"
     },
     "user_tz": -120
    },
    "id": "XB9loUci3DEP",
    "outputId": "1ec9f292-6e4a-4dc0-c3f1-63001885d8c7"
   },
   "outputs": [
    {
     "name": "stdout",
     "output_type": "stream",
     "text": [
      "[['ML1' 'George Michael' 'I Want Your Sex' 'happy']\n",
      " ['ML2' 'Rob Zombie' 'Pussy Liquor' 'angry']\n",
      " ['ML3' 'Katatonia' '12' 'sad']]\n",
      "[['ML1' 'Usher' 'There Goes My Baby' 'relaxed']\n",
      " ['ML2' \"Da'Ville\" 'On My Mind' 'relaxed']\n",
      " ['ML3' 'Rihanna' 'Rockstar 101 ' 'relaxed']]\n"
     ]
    }
   ],
   "source": [
    "print(values1[:3])\n",
    "print(values2[:3])"
   ]
  },
  {
   "cell_type": "code",
   "execution_count": 11,
   "metadata": {
    "colab": {},
    "colab_type": "code",
    "id": "a-NEerzu3Q38"
   },
   "outputs": [],
   "source": [
    "combined = []\n",
    "for x in values1:\n",
    "    combined.append((x[1], x[2], x[3]))"
   ]
  },
  {
   "cell_type": "code",
   "execution_count": 12,
   "metadata": {},
   "outputs": [
    {
     "data": {
      "text/plain": [
       "2000"
      ]
     },
     "execution_count": 12,
     "metadata": {},
     "output_type": "execute_result"
    }
   ],
   "source": [
    "len(combined)"
   ]
  },
  {
   "cell_type": "code",
   "execution_count": 13,
   "metadata": {
    "colab": {},
    "colab_type": "code",
    "id": "8V-qSyCm4Hy2"
   },
   "outputs": [],
   "source": [
    "for x in values2:\n",
    "    if len([_ for (artist, song, _) in combined if artist == x[1] and song == x[2]]) == 0:\n",
    "        combined.append((x[1],x[2],x[3]))"
   ]
  },
  {
   "cell_type": "code",
   "execution_count": 14,
   "metadata": {},
   "outputs": [
    {
     "data": {
      "text/plain": [
       "4462"
      ]
     },
     "execution_count": 14,
     "metadata": {},
     "output_type": "execute_result"
    }
   ],
   "source": [
    "len(combined)"
   ]
  },
  {
   "cell_type": "code",
   "execution_count": 15,
   "metadata": {},
   "outputs": [
    {
     "data": {
      "text/plain": [
       "[('George Michael', 'I Want Your Sex', 'happy'),\n",
       " ('Rob Zombie', 'Pussy Liquor', 'angry'),\n",
       " ('Katatonia', '12', 'sad'),\n",
       " ('Bing Crosby', 'Swinging On A Star', 'happy'),\n",
       " ('Ludacris', 'Get Back', 'angry'),\n",
       " ('Hole', 'Violet', 'angry'),\n",
       " ('Manic Street Preachers',\n",
       "  \"Ifwhiteamericatoldthetruthforonedayit'sworldwouldfallapart\",\n",
       "  'angry'),\n",
       " ('Emerson Hart', \"If You're Gonna Leave\", 'sad'),\n",
       " ('Megadeth', 'Architecture of Aggression', 'angry'),\n",
       " ('Blondie', 'Heart of Glass', 'happy')]"
      ]
     },
     "execution_count": 15,
     "metadata": {},
     "output_type": "execute_result"
    }
   ],
   "source": [
    "combined[:10]"
   ]
  },
  {
   "cell_type": "code",
   "execution_count": 16,
   "metadata": {},
   "outputs": [],
   "source": [
    "from PyLyrics import *"
   ]
  },
  {
   "cell_type": "code",
   "execution_count": 17,
   "metadata": {
    "colab": {},
    "colab_type": "code",
    "id": "pz-aFg4v5LtP"
   },
   "outputs": [],
   "source": [
    "from pprint import pprint"
   ]
  },
  {
   "cell_type": "code",
   "execution_count": 18,
   "metadata": {
    "colab": {},
    "colab_type": "code",
    "id": "Zow5tlx069cg"
   },
   "outputs": [],
   "source": [
    "from IPython.display import clear_output"
   ]
  },
  {
   "cell_type": "code",
   "execution_count": 19,
   "metadata": {
    "colab": {},
    "colab_type": "code",
    "id": "4EFvj6AF5UDd"
   },
   "outputs": [],
   "source": [
    "# dicts = []\n",
    "# length = len(combined)\n",
    "# for (id, x) in enumerate(combined):\n",
    "#     clear_output()\n",
    "#     print(id/length)\n",
    "#     try:\n",
    "#         lyrics = PyLyrics.getLyrics(x[0],x[1])\n",
    "#         dicts.append({\n",
    "#           'id': id,\n",
    "#           'emotion': x[2],\n",
    "#           'lyrics': lyrics\n",
    "#         })\n",
    "#     except:\n",
    "#         continue"
   ]
  },
  {
   "cell_type": "code",
   "execution_count": 20,
   "metadata": {
    "colab": {},
    "colab_type": "code",
    "id": "SQT72AauB3eT"
   },
   "outputs": [
    {
     "ename": "NameError",
     "evalue": "name 'dicts' is not defined",
     "output_type": "error",
     "traceback": [
      "\u001b[1;31m---------------------------------------------------------------------------\u001b[0m",
      "\u001b[1;31mNameError\u001b[0m                                 Traceback (most recent call last)",
      "\u001b[1;32m<ipython-input-20-7362c8f9ee9b>\u001b[0m in \u001b[0;36m<module>\u001b[1;34m()\u001b[0m\n\u001b[1;32m----> 1\u001b[1;33m \u001b[0mdicts\u001b[0m\u001b[1;33m[\u001b[0m\u001b[1;33m:\u001b[0m\u001b[1;36m3\u001b[0m\u001b[1;33m]\u001b[0m\u001b[1;33m\u001b[0m\u001b[0m\n\u001b[0m",
      "\u001b[1;31mNameError\u001b[0m: name 'dicts' is not defined"
     ]
    }
   ],
   "source": [
    "dicts[:3]"
   ]
  },
  {
   "cell_type": "code",
   "execution_count": null,
   "metadata": {},
   "outputs": [],
   "source": [
    "# import json\n",
    "\n",
    "# with open(home_dir + 'lyrics.json', 'w') as file:\n",
    "#     json.dump(dicts, file, indent=4)"
   ]
  },
  {
   "cell_type": "code",
   "execution_count": 34,
   "metadata": {},
   "outputs": [],
   "source": [
    "import json\n",
    "\n",
    "with open(home_dir + 'lyrics.json', 'r') as file:\n",
    "    dicts = json.load(file)"
   ]
  },
  {
   "cell_type": "code",
   "execution_count": 35,
   "metadata": {},
   "outputs": [],
   "source": [
    "for x in dicts:\n",
    "    x['lyrics'] = x['lyrics'].replace('\\n', '. ')\n",
    "    x['lyrics'] = x['lyrics'].replace('..', '.')\n",
    "    x['lyrics'] = x['lyrics'].replace('..', '.')"
   ]
  },
  {
   "cell_type": "code",
   "execution_count": 36,
   "metadata": {},
   "outputs": [
    {
     "data": {
      "text/plain": [
       "[{'emotion': 'happy',\n",
       "  'id': 0,\n",
       "  'lyrics': \"There's things that you guess. And things that you know. There's boys that you can trust. And girls that you don't. . There's little things you hide. And little things that you show. Sometimes you think you're gonna get it. But you don't and that's just the way it goes. . I swear I won't tease you. Won't tell you no lies. I don't need no bible. Just look in my eyes. . I've waited so long baby. Now that we're friends. Every man's got his patience. And here's where mine ends. . I want your sex. I want your love. I want your sex. I want your. sex. . It's playing on my mind. It's dancing on my soul. It's taken so much time. So why don't you just let me go. . I'd really like to try. Oh, I'd really love to know. When you tell me you're gonna regret it. Then I tell you that I love you but you still say NO. . I swear I won't tease you. Won't tell you no lies. I don't need no bible. Just look in my eyes. . I've waited so long baby. Out in the cold. I can't take much more girl. I'm losing control. . I want your sex. I want your love. I want your sex. I want your. sex. . It's natural. It's chemical (Let's do it). It's logical. Habitual (Can we do it?). . It's sensual. But most of all. Sex is something that we should do. Sex is something for me and you. . Sex is natural, sex is good. Not everybody does it. But everybody should. Sex is natural, sex is fun. Sex is best when it's. one on one. One on one. . I'm not your father. I'm not your brother. Talk to your sister. I am a lover. . C-c-c-c-come on. . What's your definition of dirty baby. What do you consider pornography. Don't you know I love it till it hurts me baby. Don't you think it's time you had sex with me. . What's your definition of dirty baby. What do you call pornography. Don't you know I love it till it hurts me baby. Don't you think it's time you had sex with me. . Sex with me. Sex with me. Have sex with me. . C-c-c-c-come on\"},\n",
       " {'emotion': 'angry',\n",
       "  'id': 1,\n",
       "  'lyrics': \"Baby:. Gimme a B. Gimme a A. Gimme a B. Gimme a Y. . What's that spell?. What's that spell?. What's that spell?. . Cheerleader: Baby. . Earl had a baby. Baby was her name. He knew she was crazy. Tiny was the same. Down behind the shed. Slaughtering the hog. Slice it on the belly. Feed it to the dog. . One, two, three, who should I kill?. Every motherfucker running up the hill. One, two, three, what should I do?. Get fucked up and fuck up you. . Pussy liquor. Make ya sicker. Pussy liquor. Do it quicker. . Baby: Yeah, I like to get fucked up, fucked up. Goober: Yeah, I like to get fucked up too. Baby: Yeah, I bet you do. Baby: Yeah, I like to get fucked up, fucked up. Goober: Yeah, I like to get fucked up too. Baby: Yeah, I bet you do. . Earl had a baby. Otis was his name. White as a ghost, totally insane. Otis loves the girls. Young and clean. Drowning in a bucket of gasoline. . One, two, three, who should I kill?. Every motherfucker running up the hill. One, two, three, what should I do?. Get fucked up and fuck up you. . Pussy liquor. Make ya sicker. Pussy liquor. Do it quicker. . Baby: Yeah, I like to get fucked up, fucked up. Goober: Yeah, I like to get fucked up too. Baby: Yeah, I bet you do. Baby: Yeah, I like to get fucked up, fucked up. Goober: Yeah, I like to get fucked up too. Baby: Yeah, I bet you do. . Don't you know something. They won't tell. Time on my mind. Send them to a hell. Burnin' in the house. Spirits are alive. A tongue lashing mama. Help 'em to survive. . One, two, three, who should I kill?. Every motherfucker running up the hill. One, two, three, what should I do?. Get fucked up and fuck up you. . Pussy liquor. Make ya sicker. Pussy liquor. Do it quicker. . Baby: Yeah, I like to get fucked up, fucked up. Goober: Yeah, I like to get a blow job too. Baby: Yeah, I bet you do\"},\n",
       " {'emotion': 'sad',\n",
       "  'id': 2,\n",
       "  'lyrics': \"Black theatre of love. Violet dancers cast their blood. The moon gave me flowers. For funerals to come. . 12 shapes bow before her. I am still one of them. 12 morbid ways to die. Her beauty scares me. . I'm falling deeper. No more pain to feel now. Touch the silence. Afraid of hell. . Black theatre of love. Violet dancers drink my blood. The moon gave me flowers. For funerals to come. . I cannot breathe. I am losing life. The moon paints the skyline blue. She died so beautiful\"}]"
      ]
     },
     "execution_count": 36,
     "metadata": {},
     "output_type": "execute_result"
    }
   ],
   "source": [
    "dicts[:3]"
   ]
  },
  {
   "cell_type": "code",
   "execution_count": 37,
   "metadata": {},
   "outputs": [],
   "source": [
    "def split_lyrics(coll, num):\n",
    "    res = []\n",
    "    splitted = coll.split()\n",
    "    start = 0\n",
    "    end = start + num\n",
    "    length = len(splitted)\n",
    "    while start < length:\n",
    "        res.append(\" \".join(splitted[start:end]))\n",
    "        start = end\n",
    "        end += num\n",
    "    return res"
   ]
  },
  {
   "cell_type": "code",
   "execution_count": 38,
   "metadata": {},
   "outputs": [
    {
     "data": {
      "text/plain": [
       "['i am a',\n",
       " 'loely boy in',\n",
       " 'a lonely world',\n",
       " 'but i have',\n",
       " 'friends and alcohol',\n",
       " 'to make my',\n",
       " 'word']"
      ]
     },
     "execution_count": 38,
     "metadata": {},
     "output_type": "execute_result"
    }
   ],
   "source": [
    "split_lyrics(\"i am a loely boy in a lonely world but i have friends and alcohol to make my word\", 3)"
   ]
  },
  {
   "cell_type": "code",
   "execution_count": 39,
   "metadata": {},
   "outputs": [],
   "source": [
    "for x in dicts:\n",
    "    x['lyrics'] = split_lyrics(x['lyrics'], 25)"
   ]
  },
  {
   "cell_type": "code",
   "execution_count": 40,
   "metadata": {},
   "outputs": [
    {
     "data": {
      "text/plain": [
       "[{'emotion': 'happy',\n",
       "  'id': 0,\n",
       "  'lyrics': [\"There's things that you guess. And things that you know. There's boys that you can trust. And girls that you don't. . There's little things\",\n",
       "   \"you hide. And little things that you show. Sometimes you think you're gonna get it. But you don't and that's just the way it goes.\",\n",
       "   \". I swear I won't tease you. Won't tell you no lies. I don't need no bible. Just look in my eyes. . I've waited\",\n",
       "   \"so long baby. Now that we're friends. Every man's got his patience. And here's where mine ends. . I want your sex. I want your\",\n",
       "   \"love. I want your sex. I want your. sex. . It's playing on my mind. It's dancing on my soul. It's taken so much time.\",\n",
       "   \"So why don't you just let me go. . I'd really like to try. Oh, I'd really love to know. When you tell me you're\",\n",
       "   \"gonna regret it. Then I tell you that I love you but you still say NO. . I swear I won't tease you. Won't tell\",\n",
       "   \"you no lies. I don't need no bible. Just look in my eyes. . I've waited so long baby. Out in the cold. I can't\",\n",
       "   \"take much more girl. I'm losing control. . I want your sex. I want your love. I want your sex. I want your. sex. .\",\n",
       "   \"It's natural. It's chemical (Let's do it). It's logical. Habitual (Can we do it?). . It's sensual. But most of all. Sex is something that\",\n",
       "   'we should do. Sex is something for me and you. . Sex is natural, sex is good. Not everybody does it. But everybody should. Sex',\n",
       "   \"is natural, sex is fun. Sex is best when it's. one on one. One on one. . I'm not your father. I'm not your brother.\",\n",
       "   \"Talk to your sister. I am a lover. . C-c-c-c-come on. . What's your definition of dirty baby. What do you consider pornography. Don't you\",\n",
       "   \"know I love it till it hurts me baby. Don't you think it's time you had sex with me. . What's your definition of dirty\",\n",
       "   \"baby. What do you call pornography. Don't you know I love it till it hurts me baby. Don't you think it's time you had sex\",\n",
       "   'with me. . Sex with me. Sex with me. Have sex with me. . C-c-c-c-come on']},\n",
       " {'emotion': 'angry',\n",
       "  'id': 1,\n",
       "  'lyrics': [\"Baby:. Gimme a B. Gimme a A. Gimme a B. Gimme a Y. . What's that spell?. What's that spell?. What's that spell?. . Cheerleader:\",\n",
       "   'Baby. . Earl had a baby. Baby was her name. He knew she was crazy. Tiny was the same. Down behind the shed. Slaughtering the',\n",
       "   'hog. Slice it on the belly. Feed it to the dog. . One, two, three, who should I kill?. Every motherfucker running up the hill.',\n",
       "   'One, two, three, what should I do?. Get fucked up and fuck up you. . Pussy liquor. Make ya sicker. Pussy liquor. Do it quicker.',\n",
       "   '. Baby: Yeah, I like to get fucked up, fucked up. Goober: Yeah, I like to get fucked up too. Baby: Yeah, I bet you',\n",
       "   'do. Baby: Yeah, I like to get fucked up, fucked up. Goober: Yeah, I like to get fucked up too. Baby: Yeah, I bet you',\n",
       "   'do. . Earl had a baby. Otis was his name. White as a ghost, totally insane. Otis loves the girls. Young and clean. Drowning in',\n",
       "   'a bucket of gasoline. . One, two, three, who should I kill?. Every motherfucker running up the hill. One, two, three, what should I do?.',\n",
       "   'Get fucked up and fuck up you. . Pussy liquor. Make ya sicker. Pussy liquor. Do it quicker. . Baby: Yeah, I like to get',\n",
       "   'fucked up, fucked up. Goober: Yeah, I like to get fucked up too. Baby: Yeah, I bet you do. Baby: Yeah, I like to get',\n",
       "   \"fucked up, fucked up. Goober: Yeah, I like to get fucked up too. Baby: Yeah, I bet you do. . Don't you know something. They\",\n",
       "   \"won't tell. Time on my mind. Send them to a hell. Burnin' in the house. Spirits are alive. A tongue lashing mama. Help 'em to\",\n",
       "   'survive. . One, two, three, who should I kill?. Every motherfucker running up the hill. One, two, three, what should I do?. Get fucked up',\n",
       "   'and fuck up you. . Pussy liquor. Make ya sicker. Pussy liquor. Do it quicker. . Baby: Yeah, I like to get fucked up, fucked',\n",
       "   'up. Goober: Yeah, I like to get a blow job too. Baby: Yeah, I bet you do']},\n",
       " {'emotion': 'sad',\n",
       "  'id': 2,\n",
       "  'lyrics': ['Black theatre of love. Violet dancers cast their blood. The moon gave me flowers. For funerals to come. . 12 shapes bow before her. I',\n",
       "   \"am still one of them. 12 morbid ways to die. Her beauty scares me. . I'm falling deeper. No more pain to feel now. Touch\",\n",
       "   'the silence. Afraid of hell. . Black theatre of love. Violet dancers drink my blood. The moon gave me flowers. For funerals to come. .',\n",
       "   'I cannot breathe. I am losing life. The moon paints the skyline blue. She died so beautiful']}]"
      ]
     },
     "execution_count": 40,
     "metadata": {},
     "output_type": "execute_result"
    }
   ],
   "source": [
    "dicts[:3]"
   ]
  },
  {
   "cell_type": "code",
   "execution_count": 41,
   "metadata": {},
   "outputs": [
    {
     "data": {
      "text/plain": [
       "array([[ 0.65771306, -0.5502059 ,  0.54858327, ...,  0.487094  ,\n",
       "         0.00516366,  0.18935008],\n",
       "       [ 0.69187784, -0.04190515,  0.6225726 , ...,  0.5805118 ,\n",
       "        -0.08256239,  0.3541093 ],\n",
       "       [ 0.6962056 , -0.23952372,  0.5332706 , ...,  0.4603442 ,\n",
       "        -0.16853113,  0.45977464]], dtype=float32)"
      ]
     },
     "execution_count": 41,
     "metadata": {},
     "output_type": "execute_result"
    }
   ],
   "source": [
    "from bert_serving.client import BertClient\n",
    "bc = BertClient()\n",
    "bc.encode(['First do it', 'then do it right', 'then do it better'])"
   ]
  },
  {
   "cell_type": "code",
   "execution_count": 43,
   "metadata": {},
   "outputs": [],
   "source": [
    "encoded = []\n",
    "for x in dicts:\n",
    "    encoded.append((x['id'], x['emotion'], bc.encode(x['lyrics'])))"
   ]
  },
  {
   "cell_type": "code",
   "execution_count": 45,
   "metadata": {},
   "outputs": [],
   "source": [
    "dataset = []\n",
    "for x in encoded:\n",
    "    for y in x[2]:\n",
    "        dataset.append((x[1], y))"
   ]
  },
  {
   "cell_type": "code",
   "execution_count": 46,
   "metadata": {},
   "outputs": [
    {
     "data": {
      "text/plain": [
       "42255"
      ]
     },
     "execution_count": 46,
     "metadata": {},
     "output_type": "execute_result"
    }
   ],
   "source": [
    "len(dataset)"
   ]
  },
  {
   "cell_type": "code",
   "execution_count": 51,
   "metadata": {},
   "outputs": [],
   "source": [
    "# import pickle\n",
    "\n",
    "# with open(home_dir + 'dataset.bin', 'wb') as out:\n",
    "#     pickle.dump(dataset, out)"
   ]
  },
  {
   "cell_type": "code",
   "execution_count": 53,
   "metadata": {},
   "outputs": [],
   "source": [
    "import pickle\n",
    "\n",
    "with open(home_dir + 'dataset.bin', 'rb') as out:\n",
    "    dataset = pickle.load(out)"
   ]
  },
  {
   "cell_type": "code",
   "execution_count": 54,
   "metadata": {},
   "outputs": [
    {
     "name": "stdout",
     "output_type": "stream",
     "text": [
      "[('happy',\n",
      "  array([ 5.90295017e-01,  6.98473155e-02,  3.08487061e-02, -3.27377588e-01,\n",
      "        4.18019444e-01,  2.58760363e-01,  7.23140717e-01, -1.60306945e-01,\n",
      "        1.80985518e-02, -5.35144329e-01, -3.32767367e-01,  6.03014648e-01,\n",
      "        9.72763598e-02,  1.37568116e-01, -2.71046311e-02, -2.92271376e-01,\n",
      "        1.20520048e-01,  9.22824070e-02, -2.85059810e-01,  1.34196863e-01,\n",
      "       -1.25527054e-01,  4.73703265e-01,  2.31830746e-01, -2.07308084e-01,\n",
      "       -1.30526349e-01, -2.76296020e-01,  2.60534853e-01,  9.94570479e-02,\n",
      "        3.07280749e-01,  5.55481136e-01, -1.31982818e-01,  2.12691873e-01,\n",
      "       -2.98073918e-01, -1.14123456e-01, -7.49537647e-01,  4.42800820e-02,\n",
      "       -8.02666172e-02,  3.85494500e-01, -5.42969584e-01, -3.58756065e-01,\n",
      "        6.22045755e-01, -1.90404579e-02,  3.86394203e-01,  1.11167759e-01,\n",
      "        2.81034917e-01, -2.07567543e-01,  1.88883513e-01,  3.07130963e-01,\n",
      "       -4.55967993e-01,  5.25089353e-02,  8.58167052e-01,  7.20808327e-01,\n",
      "        2.97968686e-01, -6.32343113e-01, -1.81506783e-01,  3.94866079e-01,\n",
      "       -2.77842522e-01, -3.63086134e-01, -9.18428525e-02,  1.09631336e+00,\n",
      "        3.11029732e-01,  6.00503266e-01,  4.85124439e-01, -1.34651393e-01,\n",
      "        5.32713950e-01,  1.50117144e-01,  6.67099701e-03,  1.50180787e-01,\n",
      "        2.40632460e-01, -2.96162069e-01, -4.07992244e-01, -4.71267730e-01,\n",
      "       -1.09236740e-01, -2.01244101e-01,  6.86398000e-02, -7.97812045e-02,\n",
      "        4.19716299e-01, -5.25673151e-01,  2.94506162e-01, -7.82480538e-01,\n",
      "        6.53560877e-01, -6.55278265e-02, -1.03984974e-01,  7.10656047e-02,\n",
      "        3.04583997e-01,  3.91936004e-02,  3.23851407e-01, -2.35969216e-01,\n",
      "        4.42181006e-02,  9.41306472e-01,  2.10523427e-01, -4.96731728e-01,\n",
      "       -2.44865984e-01,  3.26202154e-01, -2.94850260e-01,  4.82827008e-01,\n",
      "       -1.66326374e-01, -2.36239970e-01, -5.37101507e-01, -5.74903429e-01,\n",
      "       -1.81392267e-01, -2.49117181e-01, -3.16984504e-01,  3.92247476e-02,\n",
      "        2.72717834e-01, -3.68171126e-01, -3.85484725e-01, -1.04125845e+00,\n",
      "       -4.00702387e-01,  5.72520077e-01, -4.11479659e-02, -2.65946724e-02,\n",
      "        7.05863833e-02, -4.72400367e-01,  1.65787891e-01,  2.43031323e-01,\n",
      "        3.51028830e-01,  3.39793861e-02, -3.80176194e-02, -5.38689435e-01,\n",
      "       -4.59319532e-01, -6.17239103e-02,  3.34366113e-01, -2.02407986e-01,\n",
      "        1.43248841e-01, -1.32593167e+00,  1.22285329e-01, -6.56310096e-02,\n",
      "        3.01549286e-01,  6.48358762e-02, -3.41246247e-01, -6.17996216e-01,\n",
      "       -8.61968100e-02, -1.04283765e-01,  6.43050134e-01,  3.09360415e-01,\n",
      "       -3.21107835e-01, -7.74740577e-02, -6.62202001e-01,  9.27133262e-02,\n",
      "        1.59917578e-01, -5.63444793e-01,  4.91821051e-01, -1.32481292e-01,\n",
      "       -5.10333717e-01,  5.14227524e-02,  2.23484367e-01, -2.91717857e-01,\n",
      "       -2.53002584e-01,  5.28663397e-01, -3.08534592e-01, -5.45877039e-01,\n",
      "       -4.80847627e-01,  3.57805669e-01,  1.77746892e-01,  3.64941090e-01,\n",
      "        3.95537913e-01,  1.95732582e-02,  5.21879256e-01, -1.18603535e-01,\n",
      "       -9.83858645e-01,  1.62550971e-01, -2.54285455e-01, -2.08064690e-02,\n",
      "        8.73990536e-01,  3.02138507e-01,  2.29558930e-01,  6.71092212e-01,\n",
      "        4.62582678e-01, -1.05304629e-01, -7.05075338e-02,  7.96301067e-01,\n",
      "       -1.46550164e-01,  4.59406286e-01, -4.28143650e-01,  3.99749875e-01,\n",
      "       -1.12162679e-01,  3.72237772e-01,  1.91684365e-01, -3.89866441e-01,\n",
      "        7.49562904e-02,  3.45480531e-01, -1.93124890e-01,  2.02605516e-01,\n",
      "        1.41624019e-01, -4.59570467e-01, -6.48455173e-02, -3.66512746e-01,\n",
      "        7.80295253e-01,  9.15126741e-01,  6.28894567e-01, -3.22210014e-01,\n",
      "        3.30513924e-01, -2.79511958e-01, -2.19864801e-01, -8.68724808e-02,\n",
      "        9.42042470e-02,  4.34208363e-01, -3.52375537e-01, -5.95838785e-01,\n",
      "        3.80713306e-02,  1.01374194e-01, -1.93078697e-01,  2.83934683e-01,\n",
      "        3.02307546e-01, -2.67430037e-01, -2.36320794e-01,  4.22050476e-01,\n",
      "       -2.17584178e-01, -2.56604105e-01, -4.76522028e-01, -5.21811619e-02,\n",
      "       -1.37685627e-01,  2.63949305e-01,  2.84390271e-01,  3.44176054e-01,\n",
      "       -8.19453746e-02, -4.08724219e-01,  8.85938015e-03,  1.35818318e-01,\n",
      "        5.56188107e-01, -3.63626778e-01,  2.38623798e-01, -2.84151107e-01,\n",
      "       -1.80559292e-01,  6.76069438e-01, -1.39051214e-01, -2.26915717e-01,\n",
      "        4.64050993e-02, -1.65875927e-01,  6.39698625e-01,  6.97603464e-01,\n",
      "       -2.30212867e-01, -4.25629854e-01, -3.19526076e-01, -3.86198908e-01,\n",
      "       -4.03245777e-01,  1.37051418e-01,  1.54380605e-01,  2.90768921e-01,\n",
      "       -1.90021396e-01,  1.05663955e-01,  2.90286511e-01,  4.29339916e-01,\n",
      "       -5.76198876e-01, -7.52366334e-02,  5.59017099e-02,  4.00577664e-01,\n",
      "        1.29184961e-01, -4.91377950e-01,  4.74167973e-01, -5.55598080e-01,\n",
      "       -7.21814573e-01, -5.47515862e-02,  4.92300512e-03,  3.24880004e-01,\n",
      "       -5.25809348e-01,  4.55419123e-01, -1.25214487e-01,  2.48915665e-02,\n",
      "        6.96721256e-01, -3.58925641e-01, -1.04705535e-01,  1.00558154e-01,\n",
      "        2.02991068e-01,  1.33029729e-01, -4.10634190e-01, -5.16782142e-02,\n",
      "        6.35958649e-03, -1.80539563e-01, -6.09276854e-02, -2.63026685e-01,\n",
      "       -4.86420184e-01,  4.51096296e-01,  1.40886769e-01,  2.47128084e-01,\n",
      "       -6.68196082e-02, -4.18060154e-01, -1.74290121e-01, -3.29966128e-01,\n",
      "        7.28968263e-01, -6.52670085e-01, -7.55087674e-01, -9.84209031e-02,\n",
      "       -6.27270579e-01,  9.03141871e-02, -1.50141791e-01,  9.84226406e-01,\n",
      "       -2.65710242e-02, -1.09491155e-01, -2.44428352e-01,  3.72927054e-04,\n",
      "       -6.73908815e-02, -3.09027016e-01,  3.87247056e-01, -6.01456538e-02,\n",
      "       -7.82216847e-01, -9.50028822e-02, -3.01070869e-01,  3.32439691e-01,\n",
      "        5.93120307e-02, -5.12421597e-03,  6.43240437e-02,  6.94482401e-02,\n",
      "        9.95111167e-02,  2.01301500e-01, -4.06345934e-01, -5.77292070e-02,\n",
      "       -3.80112529e-01,  2.61960596e-01,  6.98178887e-01, -1.32596239e-01,\n",
      "       -6.45421803e-01, -2.44160532e-03, -3.71518523e-01, -7.10734129e-01,\n",
      "        4.19887781e-01, -6.77859262e-02, -7.04259932e-01,  2.98478991e-01,\n",
      "       -5.71208149e-02, -5.86701334e-01, -1.33705422e-01,  3.98868114e-01,\n",
      "       -2.88628012e-01, -1.79662723e-02, -2.74811476e-03, -2.15057030e-01,\n",
      "        2.22955585e-01, -1.93081036e-01,  1.46711767e-01, -2.74837762e-01,\n",
      "        2.65229374e-01, -2.81589687e-01, -9.88819376e-02,  5.79627305e-02,\n",
      "        2.84591317e-01,  7.60453105e-01,  2.44245306e-01,  1.99201837e-01,\n",
      "       -2.02363282e-01,  1.04743540e-02, -1.10400438e-01, -2.38528177e-01,\n",
      "        8.37189779e-02, -1.19947232e-01,  5.51176667e-01,  2.07547784e-01,\n",
      "       -2.68574476e-01, -3.34853351e-01, -6.09534621e-01, -9.95679796e-01,\n",
      "       -4.35336471e-01,  3.41583550e-01,  8.43832612e-01, -9.98656079e-03,\n",
      "        3.22652698e-01, -2.69001871e-01, -2.40312830e-01, -7.04166442e-02,\n",
      "        4.69646119e-02, -2.06862673e-01,  2.15963066e-01,  1.59157291e-02,\n",
      "       -2.34161480e-03,  4.59839851e-02, -3.57954414e-03,  4.92023826e-01,\n",
      "        2.92306989e-01, -2.37926468e-01, -1.88072305e-02, -1.30651429e-01,\n",
      "        1.52989402e-01, -3.24654937e-01, -5.48447371e-01, -3.61735485e-02,\n",
      "       -2.13152424e-01, -1.35568365e-01,  4.64071810e-01, -4.19715106e-01,\n",
      "       -2.91952312e-01,  5.92080534e-01,  4.18932319e-01, -9.57713723e-02,\n",
      "        8.69594067e-02,  3.12182963e-01, -1.89522594e-01, -2.50880122e-01,\n",
      "        5.55463791e-01,  4.32094932e-01, -2.34737799e-01,  5.90624154e-01,\n",
      "       -9.71913263e-02,  4.17397738e-01, -1.83419570e-01, -1.91423684e-01,\n",
      "       -2.61667371e-01,  4.26234275e-01,  3.16491485e-01, -4.68908072e-01,\n",
      "       -1.02687158e-01, -2.75220275e-01, -2.81443387e-01,  6.07128382e-01,\n",
      "       -1.16077110e-01, -5.80202579e-01, -1.78872734e-01, -3.43974203e-01,\n",
      "       -1.35720864e-01,  8.16166699e-02, -5.45545220e-01, -1.07259490e-01,\n",
      "        5.02451301e-01,  2.62595080e-02,  4.70236063e-01, -7.92754352e-01,\n",
      "       -4.18470085e-01,  4.79852647e-01,  1.12143762e-01,  3.53313744e-01,\n",
      "       -5.05461842e-02,  8.39620903e-02, -1.30090028e-01,  3.30269247e-01,\n",
      "       -7.52974749e-01, -1.86564669e-01,  3.59564275e-01, -2.67104805e-01,\n",
      "       -2.75405586e-01,  2.88044065e-01, -5.38070917e-01, -1.00589015e-01,\n",
      "        2.33151689e-02,  4.03317809e-01,  2.51872987e-01, -3.17091167e-01,\n",
      "        3.37500691e-01, -6.30242467e-01,  1.02644503e-01,  1.16130464e-01,\n",
      "        4.42056507e-02,  3.04342031e-01,  5.87648213e-01, -6.53764188e-01,\n",
      "       -2.74155974e-01,  2.83089459e-01, -2.02381536e-01, -3.00437927e-01,\n",
      "       -4.33718413e-01,  4.22933161e-01,  2.48031300e-02,  6.39902875e-02,\n",
      "        6.80042863e-01, -2.81441242e-01,  1.05151825e-01, -1.28015244e+00,\n",
      "       -6.67097449e-01, -4.03010752e-03, -2.77824134e-01, -5.05328067e-02,\n",
      "       -2.98489690e-01, -1.55913949e-01,  1.84115529e-01,  5.79675853e-01,\n",
      "       -3.58307660e-01,  5.36559880e-01,  1.58147991e-01,  6.58297420e-01,\n",
      "       -3.40913892e-01,  8.34095702e-02,  7.98663855e-01, -1.22073077e-01,\n",
      "        2.84785293e-02, -6.23519063e-01,  3.64670038e-01, -7.23752677e-01,\n",
      "        3.35670918e-01, -6.98973835e-02, -9.90497768e-02,  3.14422786e-01,\n",
      "       -1.29752114e-01,  1.41544193e-01,  1.67327225e-01,  1.53939128e-01,\n",
      "        4.17202860e-01, -2.20357198e-02,  6.04067445e-01, -1.93322390e-01,\n",
      "        2.42072657e-01,  5.39081335e-01, -2.33812049e-01,  6.00774527e-01,\n",
      "        1.84573129e-01,  2.11616307e-01,  1.40913367e-01, -7.38184035e-01,\n",
      "       -6.65094197e-01, -6.18227601e-01, -3.87970537e-01, -4.58241284e-01,\n",
      "        4.34084326e-01, -1.78362191e-01,  3.74768108e-01,  4.74145442e-01,\n",
      "       -5.55860579e-01,  8.14322650e-01,  3.45342368e-01,  4.41569865e-01,\n",
      "       -2.58268058e-01,  2.48310745e-01, -2.90837586e-01, -5.13204992e-01,\n",
      "       -4.74709310e-02,  9.53654468e-01, -5.73426187e-01, -1.28918827e-01,\n",
      "        3.56759876e-02,  4.10962552e-01, -1.81813225e-01,  1.62352517e-01,\n",
      "        3.58305156e-01, -3.52568179e-02,  5.81150167e-02, -1.24862194e-01,\n",
      "        2.93524295e-01,  2.66435564e-01,  2.47315228e-01, -1.07752554e-01,\n",
      "       -8.83897424e-01,  7.56334653e-03, -4.84529942e-01,  9.76573676e-02,\n",
      "       -2.53987521e-01, -5.03213823e-01,  6.65173769e-01, -8.01354766e-01,\n",
      "       -1.96594730e-01, -1.95312858e-01, -7.93231189e-01, -8.34540352e-02,\n",
      "       -3.82111013e-01, -1.86398998e-01,  1.78779215e-01, -9.42876339e-02,\n",
      "       -5.62279709e-02,  6.41717553e-01, -2.20073741e-02,  1.70275092e-03,\n",
      "        6.37071058e-02, -1.84487492e-01,  1.90398008e-01,  6.47945940e-01,\n",
      "       -2.71181107e-01, -1.76545620e-01, -5.52853703e-01,  7.25020245e-02,\n",
      "       -5.26863098e-01, -2.22281227e+01,  2.96352714e-01,  2.21607119e-01,\n",
      "       -2.01121122e-01,  5.43838203e-01,  1.72242761e-01,  6.64054602e-02,\n",
      "       -3.33806813e-01,  1.84028625e-01,  3.14639688e-01,  4.73964542e-01,\n",
      "       -3.09450775e-01,  1.64112031e-01, -6.77853450e-02, -4.15299565e-01,\n",
      "       -1.69542700e-01, -4.71420884e-01, -2.98489064e-01, -1.08317725e-01,\n",
      "        2.60783553e-01, -1.62308171e-01,  1.64898723e-01,  1.13950394e-01,\n",
      "        2.87406385e-01, -1.64107859e-01, -1.94128856e-01, -5.95822968e-02,\n",
      "       -9.31456313e-02,  4.98196691e-01,  4.93359387e-01,  8.97936150e-02,\n",
      "        1.35360047e-01,  1.62721574e-01,  3.34253490e-01,  7.36405775e-02,\n",
      "       -1.17655985e-01, -1.44165501e-01,  2.70175904e-01,  1.95155710e-01,\n",
      "       -5.80728292e-01,  4.95267034e-01,  4.92963135e-01, -2.23507077e-01,\n",
      "        3.75407368e-01,  7.52832144e-02,  2.46879444e-01, -3.49581301e-01,\n",
      "       -2.03899950e-01, -1.42585427e-01, -8.74979496e-02, -1.92466035e-01,\n",
      "        2.91605681e-01,  4.03581530e-01, -1.70482695e-01, -1.73947081e-01,\n",
      "        4.86188047e-02, -8.35637003e-02,  4.91651446e-01, -1.68789983e-01,\n",
      "       -8.89299214e-01,  2.58707434e-01, -7.13536441e-01,  3.17649424e-01,\n",
      "        3.77867632e-02,  4.18040186e-01,  5.52084327e-01, -5.42370379e-01,\n",
      "        3.50045860e-01, -2.92583555e-01,  5.86849272e-01,  2.37232700e-01,\n",
      "        2.64686018e-01, -9.10170190e-03,  1.21550761e-01,  3.97646993e-01,\n",
      "        4.11383398e-02,  3.05228293e-01,  8.29670206e-02, -2.65474338e-02,\n",
      "        1.01441652e-01, -6.84103489e-01, -6.53088987e-02,  8.50302577e-01,\n",
      "        3.76022696e-01, -2.69045711e-01, -8.38060200e-01, -1.22231960e-01,\n",
      "       -1.94019809e-01,  1.42358065e-01, -1.70697812e-02, -5.23288846e-01,\n",
      "       -3.61340404e-01, -2.96820074e-01,  3.96280527e-01,  5.06794274e-01,\n",
      "       -7.38393590e-02, -3.98457408e-01, -2.24866178e-02, -6.67298794e-01,\n",
      "        4.54049259e-01,  2.37552151e-01,  1.83047980e-01,  3.00132245e-01,\n",
      "        3.64266843e-01,  5.75364351e-01,  1.93905294e-01,  1.89063534e-01,\n",
      "       -4.09206390e-01, -3.12291533e-02,  2.97142267e-01,  1.16131589e-01,\n",
      "        8.57074261e-02,  2.51520514e-01,  3.01978648e-01,  4.78176504e-01,\n",
      "        8.29012811e-01, -3.18420939e-02,  1.49004027e-01,  2.77197137e-02,\n",
      "       -1.60156325e-01, -7.38994598e-01,  7.52505958e-02,  4.52775449e-01,\n",
      "        5.34121335e-01, -4.33677822e-01,  2.72120982e-01, -6.93396091e-01,\n",
      "        1.51968300e-01,  6.55743003e-01, -1.66674465e-01, -2.39397377e-01,\n",
      "       -2.03089252e-01, -1.04004078e-01,  2.50496298e-01, -2.43846744e-01,\n",
      "        1.70452252e-01,  2.49624580e-01,  7.89357722e-02, -3.47509950e-01,\n",
      "        1.34169355e-01, -1.08384609e+00,  3.21656883e-01, -1.45319834e-01,\n",
      "       -3.80769968e-01,  2.48135924e-01, -3.95072430e-01, -2.98688486e-02,\n",
      "        1.03335105e-01, -4.86325681e-01, -3.38935077e-01, -4.74886715e-01,\n",
      "        2.58530855e-01,  1.73813075e-01, -2.31008410e-01, -3.48528981e-01,\n",
      "       -8.09601881e-03,  5.42390406e-01, -1.43921569e-01, -1.17590532e-01,\n",
      "       -1.08369440e-01,  2.85881311e-01, -1.28335997e-01,  7.98176453e-02,\n",
      "       -2.12670550e-01,  4.60249096e-01,  2.23001689e-01,  1.61443442e-01,\n",
      "       -5.25474101e-02, -2.72668004e-01,  1.08265184e-01,  4.15571302e-01,\n",
      "       -1.27758309e-01, -1.05661727e-01, -7.57235587e-02, -3.92497450e-01,\n",
      "        3.23483557e-01, -5.05209863e-01,  2.16454491e-01, -7.49034211e-02,\n",
      "        4.60764050e-01,  5.61914384e-01,  9.50684622e-02, -2.00962543e-01,\n",
      "       -1.77410007e-01,  7.30018795e-01, -6.49521202e-02,  9.06048939e-02,\n",
      "       -3.95676568e-02, -9.26515162e-02,  5.46852536e-02,  3.30815911e-02,\n",
      "        1.52722299e-01, -7.44347334e-01,  9.11246717e-01,  3.34775746e-02,\n",
      "        5.00740349e-01,  4.05036956e-02, -1.08877765e-02, -3.75334918e-02,\n",
      "        2.31432900e-01, -2.46037528e-01,  2.35811733e-02, -4.77753103e-01,\n",
      "       -3.40125740e-01,  1.89262046e-03,  6.29363775e-01,  3.61584008e-01,\n",
      "        7.78919905e-02,  2.38100410e-01,  2.49038503e-01,  3.30050439e-01],\n",
      "      dtype=float32)),\n",
      " ('happy',\n",
      "  array([ 4.13959265e-01,  1.09392807e-01, -2.55557925e-01, -7.06760883e-01,\n",
      "        4.72040564e-01,  1.27086625e-01,  5.92890799e-01, -2.60327738e-02,\n",
      "       -3.74412835e-01, -4.95874107e-01, -1.81655947e-03,  6.78670585e-01,\n",
      "        3.98875147e-01,  1.10353202e-01, -4.27734911e-01, -2.22190157e-01,\n",
      "       -4.54821773e-02, -6.24166355e-02, -8.59117687e-01,  4.14438158e-01,\n",
      "       -3.00534010e-01,  2.04601586e-01,  7.47908056e-02, -5.12626648e-01,\n",
      "       -1.94853783e-01, -1.44108906e-01,  2.01982677e-01,  7.61815012e-01,\n",
      "        3.01675230e-01,  5.97582519e-01, -8.25319067e-02,  1.22935921e-01,\n",
      "       -1.98685154e-01,  7.96055943e-02, -9.87416282e-02,  1.68587953e-01,\n",
      "       -1.42490700e-01,  2.45786652e-01, -2.88641781e-01, -3.22753221e-01,\n",
      "        8.88225019e-01,  3.31415161e-02,  4.00271446e-01,  6.34120166e-01,\n",
      "        2.00443998e-01, -6.28112629e-02,  7.48694539e-02,  6.98105216e-01,\n",
      "       -5.61154842e-01, -7.79567063e-02,  6.47646546e-01, -2.68653538e-02,\n",
      "       -2.31317103e-01, -8.63113225e-01, -2.61474758e-01, -3.60772461e-02,\n",
      "       -1.50241837e-01, -2.76166856e-01, -5.26913881e-01,  7.73667991e-01,\n",
      "        6.62426725e-02,  1.06681693e+00,  4.64434385e-01, -4.67597395e-01,\n",
      "        6.86469153e-02, -1.72172189e-01,  2.25101262e-01,  1.24921836e-01,\n",
      "        3.48238945e-01, -6.79513454e-01, -5.08547649e-02, -2.42687747e-01,\n",
      "       -2.18572438e-01, -1.73596516e-01, -3.90604109e-01, -3.39818805e-01,\n",
      "        2.55662054e-01, -7.72620559e-01,  7.02465177e-02, -2.70518959e-01,\n",
      "        5.91696858e-01, -8.25766176e-02,  1.59297645e-01,  3.25998425e-01,\n",
      "        1.60265625e-01, -1.80096906e-02,  2.52454966e-01, -4.90643680e-02,\n",
      "        3.07494067e-02,  1.00563169e+00,  7.06325471e-02, -4.14333254e-01,\n",
      "        1.57795042e-01,  4.56558108e-01, -1.18944913e-01,  3.98609072e-01,\n",
      "       -2.83302277e-01, -2.08878234e-01, -5.59134722e-01, -3.92846644e-01,\n",
      "       -1.21535085e-01, -5.55501461e-01, -3.88463378e-01,  7.33052790e-02,\n",
      "        1.90036908e-01, -3.57530743e-01, -4.58210856e-01, -7.82347441e-01,\n",
      "       -6.82402253e-01,  3.90223533e-01,  1.01411991e-01,  3.30536366e-02,\n",
      "       -1.31819740e-01, -3.82100016e-01,  8.47281292e-02,  2.99303561e-01,\n",
      "        3.73880923e-01, -3.88301648e-02, -1.28219888e-01, -3.36666197e-01,\n",
      "       -4.08957183e-01,  1.14933603e-01, -2.88411230e-02, -1.73646167e-01,\n",
      "        1.65329158e-01, -1.02567065e+00,  1.41761586e-01, -1.93155557e-02,\n",
      "        3.46905828e-01,  5.13786897e-02, -2.00143531e-01, -5.06866932e-01,\n",
      "       -1.01694368e-01, -2.80653059e-01,  2.78352827e-01,  4.86799210e-01,\n",
      "       -1.73778936e-01,  3.46653163e-01, -5.80747008e-01, -2.44978473e-01,\n",
      "       -2.46172354e-01, -5.00392020e-01,  3.21832925e-01,  3.39757681e-01,\n",
      "       -3.14695925e-01,  3.23753744e-01,  1.03153531e-02, -4.95801240e-01,\n",
      "        2.39996150e-01,  9.36263651e-02, -2.01264650e-01, -7.57329226e-01,\n",
      "       -5.00973642e-01,  2.28436738e-01, -4.67986554e-01,  8.05950105e-01,\n",
      "        1.68489605e-01,  2.82116175e-01,  7.45834649e-01, -9.66883823e-02,\n",
      "       -1.14471829e+00,  7.08275378e-01, -3.13192636e-01, -1.83941409e-01,\n",
      "        4.79617149e-01,  8.35227668e-01, -7.24639520e-02,  4.42084044e-01,\n",
      "        4.97895539e-01,  4.23943669e-01,  1.13703698e-01,  9.04747903e-01,\n",
      "       -3.67474519e-02,  3.43590021e-01, -2.16998249e-01,  4.93901372e-01,\n",
      "       -1.27423346e-01,  2.75100380e-01, -3.09599261e-03, -5.14404416e-01,\n",
      "       -1.24505356e-01,  3.08611959e-01, -1.98455945e-01,  2.80206352e-02,\n",
      "        2.38597438e-01, -1.21312588e-01,  1.43114835e-01, -8.83335888e-01,\n",
      "        5.07829070e-01,  8.33044887e-01,  5.75851560e-01,  1.48449108e-01,\n",
      "        4.65108961e-01, -2.82151282e-01, -2.77707756e-01, -3.24479669e-01,\n",
      "       -7.07172528e-02,  7.81418160e-02, -4.31264728e-01, -4.01815027e-01,\n",
      "        7.02569038e-02,  1.37977570e-01, -3.82302731e-01,  1.02152422e-01,\n",
      "        3.07890594e-01, -2.81626701e-01, -5.35872698e-01,  4.16636616e-01,\n",
      "       -1.12792522e-01, -4.24705207e-01, -2.41867259e-01,  2.82263570e-02,\n",
      "        9.29920760e-04,  4.37319398e-01, -2.59340759e-02, -1.53338194e-01,\n",
      "        1.58607826e-01, -4.47461277e-01, -3.63983549e-02,  7.08536744e-01,\n",
      "        1.09436773e-01, -2.85958529e-01,  2.56295443e-01, -4.44865078e-01,\n",
      "       -1.52445227e-01,  4.29644227e-01, -1.02819592e-01, -5.44076599e-02,\n",
      "        2.79176831e-01, -4.01547939e-01,  6.33403718e-01,  6.28379583e-01,\n",
      "       -4.41126913e-01, -3.00270934e-02, -2.99808472e-01,  3.39157492e-01,\n",
      "       -2.73302585e-01,  3.11226249e-01, -1.96565017e-01,  1.58216968e-01,\n",
      "        3.20124328e-02, -3.11985195e-01,  1.45555243e-01,  2.64347315e-01,\n",
      "       -5.13906240e-01,  1.83181778e-01, -4.24974442e-01,  2.86703765e-01,\n",
      "        4.85066831e-01, -7.35190511e-02,  4.48946685e-01,  2.93105561e-02,\n",
      "       -1.42210543e+00,  2.71365374e-01,  2.52872586e-01,  1.12600416e-01,\n",
      "       -1.81987703e-01,  3.30153197e-01,  6.40852451e-02, -2.47822300e-01,\n",
      "        5.19670725e-01, -3.55580568e-01,  1.66176036e-01, -9.57360193e-02,\n",
      "       -2.33286157e-01,  2.29789257e-01, -1.03951685e-01, -1.87226206e-01,\n",
      "       -1.08682334e-01, -1.06034964e-01, -5.83895333e-02, -1.58878282e-01,\n",
      "       -3.00333619e-01,  6.93483889e-01, -1.54535800e-01,  4.25669909e-01,\n",
      "       -3.43803205e-02, -2.48925060e-01, -1.02200598e-01, -1.64665237e-01,\n",
      "        5.98752260e-01, -4.12763566e-01, -3.64755392e-01, -2.34999731e-01,\n",
      "       -7.97063887e-01,  7.35822693e-02,  9.93902311e-02,  5.95656276e-01,\n",
      "        1.75229743e-01,  7.19615370e-02,  1.09705888e-01, -3.28001976e-01,\n",
      "       -1.68167710e-01, -3.34786296e-01,  4.90547717e-01,  1.91045284e-01,\n",
      "       -7.54143536e-01,  3.23050879e-02, -2.85500854e-01,  4.49927039e-02,\n",
      "        1.23776093e-01,  4.20068026e-01,  3.28626215e-01,  3.44706833e-01,\n",
      "        1.51871681e-01,  5.53664327e-01, -1.56132519e-01, -4.11992252e-01,\n",
      "        1.62865892e-01,  4.05488431e-01,  6.65591478e-01,  1.27658069e-01,\n",
      "       -6.16659760e-01,  7.34058991e-02, -1.47552013e-01, -4.53381687e-01,\n",
      "        4.16857153e-01, -3.71300668e-01, -8.46755087e-01, -9.99428146e-03,\n",
      "       -5.19368164e-02, -4.47780520e-01, -1.49539024e-01,  3.20182025e-01,\n",
      "       -4.38340217e-01, -6.58976585e-02, -1.53795943e-01, -2.77027845e-01,\n",
      "       -1.09409057e-01, -2.84185439e-01,  8.47885385e-02,  1.11338288e-01,\n",
      "        4.72375184e-01,  9.69553739e-02, -3.06436896e-01, -2.53960729e-01,\n",
      "        1.39329985e-01,  4.75041091e-01, -3.24055441e-02, -2.62338202e-02,\n",
      "       -6.95653185e-02,  5.21700904e-02, -1.26020983e-01,  2.71645248e-01,\n",
      "        2.74729997e-01, -5.73658235e-02,  5.15522838e-01,  1.95497319e-01,\n",
      "       -1.90119892e-01,  8.14218894e-02, -3.70284468e-01, -9.21842635e-01,\n",
      "       -5.01808226e-01,  8.13035741e-02,  9.20734346e-01,  3.37085694e-01,\n",
      "        3.79401177e-01, -5.50480234e-03, -2.37842813e-01, -1.01106718e-01,\n",
      "       -5.09607419e-02, -3.54872257e-01,  3.52696061e-01,  9.52415243e-02,\n",
      "       -9.63324010e-02,  2.48630658e-01, -2.39867076e-01,  6.12830341e-01,\n",
      "        2.53784955e-01, -3.65345776e-02,  1.12736456e-01, -3.10824096e-01,\n",
      "       -1.65409774e-01, -2.51447320e-01, -2.67060906e-01, -4.59927879e-02,\n",
      "       -1.16590887e-01,  3.52540575e-02,  5.73713481e-01, -1.99849680e-01,\n",
      "       -3.96509171e-01,  3.92858356e-01,  6.24728382e-01,  9.92116034e-02,\n",
      "       -1.56248614e-01,  2.97347426e-01, -4.16049123e-01, -3.58057678e-01,\n",
      "        5.14283538e-01,  2.86548561e-03, -1.89593196e-01,  3.19488645e-01,\n",
      "        2.97757536e-01, -1.60872996e-01, -1.08178761e-02, -3.69980305e-01,\n",
      "       -2.85383195e-01,  6.13936722e-01,  3.17822546e-01, -2.18834072e-01,\n",
      "        1.60937876e-01, -4.26363766e-01, -4.51694369e-01,  4.57712412e-01,\n",
      "       -3.57786894e-01, -3.17935824e-01, -3.82208914e-01, -1.53687894e-01,\n",
      "        3.65385860e-02, -1.39997855e-01, -6.30449235e-01, -1.99043944e-01,\n",
      "        2.35609546e-01, -1.30495027e-01,  2.87351787e-01, -9.46243286e-01,\n",
      "       -5.18752515e-01,  3.96309495e-01, -1.32999733e-01,  6.85110092e-01,\n",
      "        1.00593492e-01, -1.03844069e-02,  1.56299546e-01, -1.55438222e-02,\n",
      "       -6.41869307e-01, -1.25766337e-01, -4.74445932e-02, -3.35119516e-02,\n",
      "       -3.85406375e-01,  3.12929899e-01, -1.73645288e-01, -3.04552596e-02,\n",
      "       -3.39252991e-04,  2.62680113e-01,  1.69813141e-01, -1.20770037e-02,\n",
      "        7.16070011e-02, -5.41372657e-01,  2.10352853e-01,  1.93716551e-03,\n",
      "        7.81591907e-02,  3.16528827e-01,  5.22924125e-01, -1.10574460e+00,\n",
      "       -2.94500478e-02,  7.36266732e-01, -3.87581880e-03,  1.00395873e-01,\n",
      "       -5.27531981e-01,  1.57109555e-02,  3.50633919e-01,  9.52561647e-02,\n",
      "        1.84577465e-01, -1.77181602e-01,  1.76344112e-01, -1.23757088e+00,\n",
      "       -8.07802200e-01,  3.75037611e-01, -1.03730917e-01, -2.65762836e-01,\n",
      "       -1.17724627e-01,  6.85884655e-02, -3.47748786e-01,  7.07848966e-01,\n",
      "       -2.08344385e-01,  2.82360375e-01, -5.61342239e-02,  2.78722346e-01,\n",
      "       -5.31406999e-01,  8.32979977e-02,  8.34947050e-01, -3.12763713e-02,\n",
      "       -3.06886315e-01, -4.71440889e-02, -4.58598807e-02, -5.50763249e-01,\n",
      "        5.72721779e-01, -1.73575178e-01, -4.55988914e-01,  6.13435626e-01,\n",
      "        8.55593942e-03, -6.54924139e-02, -1.75099775e-01,  2.79999077e-01,\n",
      "        3.72522742e-01, -1.13664724e-01,  8.65468204e-01, -1.73787668e-01,\n",
      "        7.20146120e-01,  5.24908423e-01, -2.46396318e-01,  3.22333872e-01,\n",
      "        2.97366530e-01,  2.53499269e-01, -9.92166400e-02, -3.83351773e-01,\n",
      "       -6.04185879e-01, -5.95665097e-01,  7.94562176e-02, -2.99837768e-01,\n",
      "       -1.51610626e-02, -1.60761952e-01,  1.94816038e-01,  2.52536803e-01,\n",
      "       -4.13320243e-01,  6.99567318e-01,  9.60082468e-03,  2.90033460e-01,\n",
      "       -1.60774276e-01,  7.42401229e-03, -5.70228398e-01, -7.38162935e-01,\n",
      "        1.96577191e-01,  2.72323787e-01, -5.22920549e-01, -2.16856778e-01,\n",
      "        2.85776332e-02,  4.37343508e-01, -3.32512856e-01,  2.82502323e-01,\n",
      "        3.05003524e-01, -4.29811962e-02, -4.71457057e-02, -3.30064923e-01,\n",
      "        5.91388196e-02,  2.73412883e-01,  4.13817137e-01,  6.61545023e-02,\n",
      "       -5.93451321e-01, -2.88215041e-01, -4.05406594e-01,  3.72821204e-02,\n",
      "       -1.69285521e-01, -7.70713210e-01,  4.75544423e-01, -6.78043306e-01,\n",
      "        6.75187558e-02, -1.69310510e-01, -3.04375350e-01, -1.74373627e-01,\n",
      "        7.23199593e-03,  1.57566190e-01,  5.22275567e-01,  6.87345117e-02,\n",
      "        3.63509893e-01,  5.84929228e-01, -3.27822804e-01,  6.72719032e-02,\n",
      "       -2.76707835e-03, -4.47939515e-01,  3.27923775e-01,  8.09651792e-01,\n",
      "       -1.97438255e-01, -2.12400839e-01, -4.63578075e-01, -3.18223541e-03,\n",
      "       -9.72535729e-01, -2.29729881e+01,  1.96428984e-01,  3.07299852e-01,\n",
      "        4.55541443e-03,  6.86220884e-01,  1.24605685e-01, -5.95497806e-03,\n",
      "       -3.70692909e-01,  6.99490905e-02,  4.83105123e-01,  5.78241229e-01,\n",
      "       -1.33390442e-01, -4.96608168e-01,  9.69205499e-02,  1.54518649e-01,\n",
      "       -1.24317683e-01, -1.75848886e-01, -4.09077138e-01,  2.07341045e-01,\n",
      "        1.26612440e-01, -1.49112903e-02,  2.20633641e-01,  6.00622855e-02,\n",
      "        2.88133938e-02,  9.90499854e-02, -1.29951283e-01, -4.60369065e-02,\n",
      "       -3.23331296e-01,  2.59095758e-01,  3.45289916e-01,  1.50971055e-01,\n",
      "       -7.41896406e-02, -9.98628885e-02,  2.03770429e-01,  5.10981619e-01,\n",
      "       -5.21270745e-02, -6.55584708e-02,  1.84040844e-01,  1.77745432e-01,\n",
      "       -6.53268874e-01,  6.87253237e-01,  8.22897255e-02, -3.03061128e-01,\n",
      "        4.64517862e-01,  3.03679537e-02,  4.18597102e-01,  3.46233726e-01,\n",
      "       -2.28992745e-01, -7.67715946e-02, -3.81951243e-01, -1.06353261e-01,\n",
      "        3.21558654e-01,  4.56589945e-02, -3.45190972e-01, -5.94170280e-02,\n",
      "        2.62746736e-02, -1.22280605e-01,  1.51899159e-01, -2.11947151e-02,\n",
      "       -3.43682021e-01,  1.11973071e-02, -6.21202409e-01,  6.83076143e-01,\n",
      "        6.82206126e-04,  4.26400095e-01,  4.61473316e-01, -9.05010760e-01,\n",
      "        9.44322646e-02, -1.23978004e-01,  4.94499385e-01,  1.85131535e-01,\n",
      "        3.57137084e-01,  4.29181084e-02, -3.80154364e-02,  1.43086836e-01,\n",
      "       -1.42441377e-01, -1.98844835e-01,  1.67789891e-01,  1.20217251e-02,\n",
      "        2.61076659e-01, -8.50055695e-01, -4.32721853e-01,  8.45129907e-01,\n",
      "       -5.57190925e-02, -1.62540570e-01, -9.17219222e-01,  1.27282292e-01,\n",
      "       -2.23212153e-01,  1.06755607e-01, -2.65531018e-02, -5.58380365e-01,\n",
      "       -2.89226830e-01, -6.66395187e-01,  3.55575293e-01,  4.02064890e-01,\n",
      "        2.35409513e-01, -2.80516416e-01,  1.31629363e-01, -4.41374749e-01,\n",
      "        3.77059758e-01,  7.12319613e-01,  4.56672609e-02,  3.15003157e-01,\n",
      "        2.64416039e-01,  3.98591012e-01,  2.08056122e-01,  6.55709445e-01,\n",
      "       -3.47496271e-01,  7.84930140e-02,  1.07451057e+00,  6.49787188e-02,\n",
      "        1.62269399e-01,  5.52246809e-01,  2.36382961e-01,  5.85711181e-01,\n",
      "        6.98517442e-01,  3.23180333e-02,  1.70366745e-02, -5.34258969e-02,\n",
      "       -1.20549195e-01, -2.57599175e-01, -4.03610229e-01,  5.79322219e-01,\n",
      "        3.60368848e-01, -3.02646272e-02, -1.62110984e-01, -6.66763604e-01,\n",
      "        2.58566469e-01,  1.98736101e-01, -2.91273385e-01, -3.81204218e-01,\n",
      "       -2.88167596e-01, -3.35694581e-01,  2.06873119e-01, -4.81906652e-01,\n",
      "       -1.19044267e-01,  4.44710165e-01,  2.11613461e-01, -5.73725283e-01,\n",
      "        2.48873577e-01, -1.39097333e+00,  3.89808387e-01, -2.32618605e-03,\n",
      "       -2.40217209e-01,  5.76709330e-01, -3.67444068e-01, -4.06501256e-02,\n",
      "        2.76311785e-01, -9.14871156e-01, -1.82376385e-01, -6.29186869e-01,\n",
      "        3.56964290e-01, -1.88614428e-01, -1.37469709e-01,  2.31250197e-01,\n",
      "        2.04986185e-01,  6.24708533e-01,  2.01594204e-01, -5.42113721e-01,\n",
      "        5.81657654e-03,  4.19820011e-01,  5.26663549e-02,  3.06023747e-01,\n",
      "        1.88919425e-01,  4.66166317e-01, -7.28318514e-03,  3.26230586e-01,\n",
      "       -2.09373087e-01,  2.17189997e-01,  1.05088674e-01,  4.37759042e-01,\n",
      "       -4.90778804e-01, -2.28726298e-01, -9.39366892e-02, -3.46664250e-01,\n",
      "        1.60155110e-02,  2.21169934e-01,  1.79412197e-02,  7.10194884e-03,\n",
      "        3.20128292e-01,  1.74951881e-01, -1.33938760e-01, -2.22847685e-01,\n",
      "        2.05213964e-01,  1.52763426e-01,  2.55035162e-01, -7.44543672e-02,\n",
      "       -3.38652767e-02,  1.91485792e-01,  7.92533457e-02, -4.89827693e-02,\n",
      "       -1.10379197e-02, -8.50365162e-01,  6.45512164e-01, -1.09161161e-01,\n",
      "        5.58013201e-01,  2.77685951e-02, -7.18724132e-02,  1.40845045e-01,\n",
      "        3.31078798e-01,  1.09898806e-01, -3.13195229e-01, -2.04486027e-01,\n",
      "       -4.82878834e-01, -3.37049738e-02,  3.22271958e-02,  2.19199389e-01,\n",
      "       -3.26811105e-01,  6.65452898e-01,  3.07568669e-01, -1.53282192e-02],\n",
      "      dtype=float32)),\n",
      " ('happy',\n",
      "  array([ 1.03820667e-01, -7.12497719e-03,  1.08969525e-01, -5.21073103e-01,\n",
      "        4.85074669e-02, -4.37473655e-01,  3.48182589e-01, -5.38207769e-01,\n",
      "       -9.58078444e-01, -3.58351439e-01,  2.55367368e-01,  1.78742230e-01,\n",
      "        4.12346601e-01, -5.76448217e-02, -1.00070298e-01, -7.80356675e-02,\n",
      "       -6.38790727e-01,  3.12928781e-02, -7.10021079e-01,  1.99870542e-01,\n",
      "       -5.02584696e-01, -5.98647594e-02, -4.35418636e-01, -8.19354728e-02,\n",
      "       -6.34828582e-02, -3.50520492e-01,  3.46924245e-01,  5.11456311e-01,\n",
      "        2.08679289e-01,  2.90949166e-01, -1.08323745e-01,  2.78289616e-01,\n",
      "       -2.41466314e-01, -1.54997870e-01, -3.78747135e-01, -3.40898514e-01,\n",
      "        2.19488010e-01,  5.55462241e-01,  1.21231854e-01, -6.29028261e-01,\n",
      "        3.36335361e-01,  2.92574286e-01, -4.33495104e-01, -2.68024564e-01,\n",
      "       -2.70607620e-02, -5.61954439e-01,  4.76016611e-01, -2.01660991e-01,\n",
      "       -1.49385422e-01, -3.34571861e-02,  3.74061912e-02,  4.00140941e-01,\n",
      "       -1.73070341e-01,  1.50809467e-01,  8.82760510e-02, -2.22031415e-01,\n",
      "       -4.14405838e-02, -6.91881999e-02, -6.52491510e-01,  7.41425157e-01,\n",
      "        5.09764433e-01,  3.96053940e-02,  8.18810388e-02,  3.40381288e-03,\n",
      "       -1.31939650e-01, -2.71559507e-01,  6.37018025e-01, -1.94799677e-02,\n",
      "        4.13949877e-01,  1.36060938e-01,  1.21477120e-01,  2.58241981e-01,\n",
      "       -1.39008254e-01,  1.08345583e-01, -4.32539321e-02, -2.08918646e-01,\n",
      "        3.65194902e-02, -5.36603272e-01, -1.62087262e-01, -2.31969878e-01,\n",
      "        5.55942297e-01,  3.50128710e-02,  1.11197278e-01,  1.25068858e-01,\n",
      "        4.60136607e-02,  1.28667176e-01,  6.29125774e-01, -1.27830831e-02,\n",
      "       -8.13029185e-02,  8.67101610e-01,  1.19122334e-01, -1.91968784e-01,\n",
      "        4.33421284e-01,  3.54667306e-01, -3.04324120e-01,  2.24019602e-01,\n",
      "       -1.98786259e-01, -3.36507410e-01, -2.62162834e-01, -1.18713528e-01,\n",
      "        2.06412718e-01, -4.16667491e-01, -3.88599606e-03,  3.96089971e-01,\n",
      "       -2.20398352e-01,  3.12270671e-01, -6.69196188e-01, -3.73279303e-01,\n",
      "       -1.54841885e-01,  3.35896164e-02,  3.84137064e-01,  2.57711947e-01,\n",
      "       -3.13278198e-01, -1.43770903e-01, -5.41697964e-02,  3.42285603e-01,\n",
      "        3.03517103e-01,  2.01065928e-01, -2.34401658e-01, -2.34521002e-01,\n",
      "        1.03706434e-01, -2.49737740e-01, -1.56814009e-01, -5.14162660e-01,\n",
      "        3.22171301e-01, -1.99015543e-01,  6.93614423e-01,  1.95581526e-01,\n",
      "        3.23495775e-01,  2.88376123e-01,  2.48605162e-01, -2.25160941e-01,\n",
      "        1.50718376e-01, -7.32284307e-01,  2.75812726e-02,  5.23092330e-01,\n",
      "        3.39608103e-01,  6.20998919e-01, -6.81605101e-01, -1.97219148e-01,\n",
      "       -4.83076334e-01, -7.23748565e-01, -2.29817294e-02,  3.56418431e-01,\n",
      "        1.01596462e-02, -8.59111026e-02, -3.49208593e-01,  8.03649053e-02,\n",
      "        2.62880653e-01, -6.76185668e-01, -2.71819979e-01, -7.07075655e-01,\n",
      "       -2.34814852e-01, -3.80339921e-01, -3.26943755e-01,  9.38109457e-02,\n",
      "        1.48768380e-01,  3.58330607e-02,  6.12639129e-01, -4.77543473e-01,\n",
      "       -4.85798448e-01,  8.74041378e-01,  5.77945001e-02,  3.35195176e-02,\n",
      "        2.85713702e-01,  1.45414084e-01,  6.08265936e-01, -3.28230709e-01,\n",
      "        4.14936066e-01,  6.97355032e-01, -2.37419128e-01,  8.90953004e-01,\n",
      "       -8.17244053e-01,  5.33113420e-01, -2.53361195e-01,  2.70491242e-01,\n",
      "       -3.10343318e-03,  2.31708717e-02, -1.12331010e-01, -1.45533636e-01,\n",
      "       -6.40407205e-01,  3.54149431e-01, -1.16884686e-01, -2.05764383e-01,\n",
      "        2.44116694e-01, -3.54015231e-01,  1.32829502e-01, -3.87242705e-01,\n",
      "        2.77984738e-01,  2.65167624e-01, -5.13641894e-01, -1.84970900e-01,\n",
      "        3.04538786e-01, -5.06965578e-01,  1.24985889e-01, -1.56654209e-01,\n",
      "        2.05915049e-01,  4.01591301e-01, -1.17976144e-01,  1.50139127e-02,\n",
      "        1.26664534e-01, -1.32672086e-01,  2.41530314e-02,  2.20933314e-02,\n",
      "       -3.06367259e-02, -3.56165797e-01, -2.53503653e-03, -2.22596183e-01,\n",
      "       -5.40308356e-01, -1.54951528e-01, -7.11894095e-01, -4.26690668e-01,\n",
      "        2.21337467e-01, -2.99271762e-01,  5.79869635e-02, -4.70497370e-01,\n",
      "       -4.09595996e-01, -6.27382517e-01,  2.11479202e-01,  5.95729768e-01,\n",
      "        9.92330611e-02, -2.53717035e-01, -3.70895147e-01, -8.02592933e-01,\n",
      "       -1.55930847e-01,  3.38725686e-01,  9.16122645e-03, -9.79186818e-02,\n",
      "        2.17520788e-01, -6.25985324e-01,  6.49715185e-01,  1.12106979e+00,\n",
      "        1.94667161e-01,  1.68851931e-02, -6.94466352e-01,  4.37582433e-01,\n",
      "        1.29150018e-01,  3.12360208e-02,  8.30544084e-02,  2.50431616e-02,\n",
      "       -3.40765268e-01, -5.30791342e-01,  5.76818824e-01,  1.73919827e-01,\n",
      "        2.09197164e-01,  4.19309735e-01, -3.44278872e-01,  3.02747965e-01,\n",
      "       -3.50386649e-01,  1.90933779e-01,  9.69577193e-01,  1.80585369e-01,\n",
      "       -1.21611953e+00,  6.18361413e-01,  4.69357401e-01,  2.31127739e-01,\n",
      "       -6.41486943e-01,  9.34976861e-02,  3.99486631e-01, -3.93272489e-01,\n",
      "        4.02731121e-01, -2.91242361e-01, -1.99595928e-01, -1.57297239e-01,\n",
      "       -5.66238880e-01,  3.38527590e-01,  6.29678816e-02, -9.51256827e-02,\n",
      "       -1.35851815e-01, -6.17934857e-04, -4.80207801e-01, -5.03951132e-01,\n",
      "        3.06765705e-01,  1.51885942e-01, -1.40488252e-01,  5.51667690e-01,\n",
      "       -3.76327783e-01, -3.51825394e-02, -4.02033240e-01, -2.06273735e-01,\n",
      "       -4.09350246e-01, -7.52652943e-01, -4.47334945e-01, -3.88544165e-02,\n",
      "       -9.30235624e-01,  3.83547187e-01, -2.24814683e-01,  5.46196759e-01,\n",
      "       -4.88906875e-02, -2.29788572e-01, -1.70428410e-01, -2.40920052e-01,\n",
      "       -7.98895434e-02, -5.91831148e-01,  3.04142296e-01,  6.21758938e-01,\n",
      "       -5.71371853e-01,  3.71194072e-02, -4.56880271e-01, -3.12570632e-02,\n",
      "        4.85359550e-01, -2.42998272e-01,  1.94062531e-01,  1.07870840e-01,\n",
      "        9.67287086e-03,  2.26098716e-01,  2.62945741e-01, -6.85289651e-02,\n",
      "        7.46426702e-01,  3.34030300e-01,  1.58243641e-01, -2.06355900e-02,\n",
      "       -3.05126786e-01,  1.25543684e-01, -3.63182217e-01, -3.87549326e-02,\n",
      "        5.03473766e-02, -6.23072624e-01, -9.46522593e-01,  1.96874797e-01,\n",
      "       -6.79690689e-02, -7.04519093e-01,  1.52608613e-02, -1.29412487e-02,\n",
      "       -1.92751631e-01, -6.93501234e-02, -4.44460571e-01, -4.52821583e-01,\n",
      "        1.50204683e-02,  1.30650690e-02, -2.31531277e-01, -6.00136369e-02,\n",
      "        5.30713834e-02,  7.80565813e-02, -1.91961110e-01, -2.39967227e-01,\n",
      "       -1.94779277e-01, -7.87647218e-02,  1.17775545e-01,  3.85048360e-01,\n",
      "        1.27894968e-01,  4.88841236e-01,  1.24660835e-01,  4.59172398e-01,\n",
      "        3.26577187e-01,  6.60590231e-01,  3.80129039e-01, -4.23589461e-02,\n",
      "       -2.96663821e-01,  2.86938637e-01, -3.35582018e-01, -5.17525434e-01,\n",
      "       -5.74949682e-02, -5.90778403e-02,  2.75192350e-01,  2.56145328e-01,\n",
      "        7.69548416e-02, -9.82451215e-02, -9.91358683e-02, -3.01845726e-02,\n",
      "        2.25590587e-01, -2.38567159e-01,  7.92686224e-01,  3.71761024e-01,\n",
      "        2.46956468e-01, -5.29751539e-01,  1.31992221e-01, -2.92707086e-01,\n",
      "        2.63516396e-01,  4.34748888e-01, -1.65755469e-02,  5.44206128e-02,\n",
      "       -4.01717760e-02,  1.61513746e-01,  4.58831072e-01,  2.36104224e-02,\n",
      "        2.72015762e-02,  1.86665595e-01,  6.06597543e-01,  2.03093752e-01,\n",
      "       -3.00434828e-01,  3.42666715e-01,  2.48977721e-01, -7.86251128e-02,\n",
      "        1.68864474e-01,  3.34194899e-01, -1.42479897e-01, -4.85308558e-01,\n",
      "        1.26400426e-01,  1.04581095e-01, -3.14385295e-01,  2.98710525e-01,\n",
      "        5.24316788e-01, -2.54819095e-01,  7.42984340e-02, -4.32278246e-01,\n",
      "       -3.86486501e-01,  1.63453504e-01,  4.72961247e-01,  3.31342369e-02,\n",
      "        4.52434830e-02, -1.57291830e-01,  1.80102572e-01,  2.43829504e-01,\n",
      "       -5.42504668e-01, -1.96328431e-01, -5.05540133e-01,  6.60754219e-02,\n",
      "        2.68054783e-01,  3.69551957e-01, -5.66568732e-01, -4.48570639e-01,\n",
      "        5.53750753e-01,  6.11360788e-01,  8.37621018e-02, -7.84820497e-01,\n",
      "        4.10700411e-01,  4.04010773e-01, -2.39888839e-02,  1.05731547e-01,\n",
      "       -8.06530491e-02,  4.08945113e-01, -3.12314600e-01,  1.90563083e-01,\n",
      "       -7.76337028e-01, -2.48435676e-01, -1.82281192e-02, -5.26721105e-02,\n",
      "       -2.73575157e-01, -3.66954245e-02, -1.38381451e-01,  1.24806821e-01,\n",
      "        3.70106027e-02,  3.74275558e-02, -2.42987499e-01,  2.50596032e-02,\n",
      "        8.27798545e-01, -6.91219389e-01,  3.45106304e-01,  2.20053315e-01,\n",
      "       -8.65136608e-02,  1.04809627e-01,  5.90607882e-01, -8.84201288e-01,\n",
      "        6.13977611e-01,  7.23325491e-01,  4.70701307e-02,  2.54042894e-02,\n",
      "       -3.59241098e-01, -2.48248667e-01, -4.10054363e-02,  4.79316898e-03,\n",
      "        4.12334889e-01,  1.97481826e-01,  1.75061002e-01, -8.92679572e-01,\n",
      "       -3.34784925e-01,  6.78879023e-01, -6.30441725e-01, -1.28490523e-01,\n",
      "        3.21934342e-01,  1.89864561e-01, -3.41890872e-01,  1.07642218e-01,\n",
      "       -1.56259894e-01,  4.67281312e-01,  3.00526917e-01,  4.15762395e-01,\n",
      "       -4.72532690e-01,  9.63603705e-02,  8.83375704e-01, -7.97452182e-02,\n",
      "       -7.46373087e-02,  1.94872096e-01, -3.00877869e-01, -5.21529168e-02,\n",
      "        4.11235392e-01, -9.15943533e-02, -5.19058049e-01,  4.92491126e-01,\n",
      "       -6.23677611e-01, -1.26501605e-01, -5.18275559e-01,  1.13854066e-01,\n",
      "        7.81517804e-01,  2.88657218e-01,  6.11146212e-01,  9.08527710e-03,\n",
      "        2.13033855e-01,  3.19053829e-01, -1.60579264e-01, -9.25079808e-02,\n",
      "        3.66268419e-02,  2.63158828e-01, -1.09456979e-01,  8.94603059e-02,\n",
      "        6.34759188e-01, -4.93380934e-01,  3.25373083e-01, -5.56842685e-01,\n",
      "       -3.49006772e-01, -3.57534707e-01,  5.09637594e-01, -5.25823853e-04,\n",
      "       -9.15122747e-01,  8.06073368e-01, -5.19744575e-01,  2.32277676e-01,\n",
      "        4.69313487e-02,  1.12203740e-01, -3.53976071e-01, -1.04509902e+00,\n",
      "        3.33723217e-01, -2.19855919e-01,  6.32500499e-02,  9.80384424e-02,\n",
      "        3.90148461e-01,  2.09730059e-01, -7.38950074e-02,  3.04923713e-01,\n",
      "        6.34331346e-01, -2.34333783e-01, -7.04358965e-02,  7.97457248e-02,\n",
      "        1.21892050e-01, -1.97026744e-01, -2.28912637e-01,  1.10376142e-01,\n",
      "       -1.45275548e-01,  1.56308532e-01, -3.37612301e-01, -3.44674110e-01,\n",
      "       -3.47904205e-01, -3.17145407e-01,  5.26924670e-01, -1.09635174e+00,\n",
      "        4.00086015e-01,  1.55707076e-01, -1.88424990e-01, -4.30561632e-01,\n",
      "       -2.34318197e-01,  5.24180122e-02,  1.87286645e-01,  2.98420191e-01,\n",
      "        4.78691190e-01,  5.56775689e-01,  1.22993411e-02,  5.39117217e-01,\n",
      "        6.08742349e-02, -4.10084963e-01,  2.55492777e-01,  6.85816288e-01,\n",
      "       -3.26044440e-01,  1.19365960e-01,  1.58137143e-01,  2.98602372e-01,\n",
      "       -3.84236485e-01, -2.01069260e+01,  4.36911136e-01,  2.25640714e-01,\n",
      "        1.99538562e-02,  5.48621476e-01,  2.15253100e-01, -2.14703269e-02,\n",
      "        4.09383252e-02,  3.06991667e-01,  5.12329102e-01,  3.07262279e-02,\n",
      "       -3.76235992e-01, -5.49700081e-01, -2.05019206e-01, -1.58289939e-01,\n",
      "        8.89857206e-03, -4.20889616e-01, -6.02332890e-01, -1.21778801e-01,\n",
      "       -3.44381839e-01, -1.08482363e-02,  3.36603850e-01, -7.09634647e-02,\n",
      "       -2.70709276e-01,  6.15193009e-01,  4.46399003e-01,  1.01287756e-02,\n",
      "       -3.19081247e-01, -2.26288989e-01,  5.96628666e-01,  1.06821798e-01,\n",
      "        4.91966128e-01,  3.80001143e-02,  3.95589739e-01,  3.79194677e-01,\n",
      "       -3.43367755e-02, -8.22118595e-02,  8.89408365e-02,  3.27081949e-01,\n",
      "       -2.55361527e-01,  1.38814505e-02, -3.88409168e-01,  1.25131592e-01,\n",
      "       -1.14752933e-01,  3.06928996e-02,  6.71987593e-01, -4.21617508e-01,\n",
      "       -8.99586901e-02, -3.30089599e-01, -4.44036394e-01, -5.85697927e-02,\n",
      "        2.94016540e-01,  1.09607629e-01, -4.20973629e-01, -2.28745371e-01,\n",
      "        2.02017397e-01, -5.50442696e-01, -4.06015441e-02,  2.69441694e-01,\n",
      "        3.02447468e-01,  7.57771254e-01, -5.36573768e-01,  6.52109861e-01,\n",
      "       -3.40062603e-02,  3.98189798e-02, -1.18029214e-01, -7.21886754e-01,\n",
      "        1.05510145e-01, -1.23397015e-01, -7.12425355e-03, -3.89970809e-01,\n",
      "        2.46206105e-01,  1.03004888e-01, -1.14867344e-01,  9.48584825e-02,\n",
      "        4.70529124e-02, -4.13894147e-01, -5.98841272e-02,  3.80096257e-01,\n",
      "        6.30409718e-01, -3.86421084e-01,  1.45857617e-01,  7.61923909e-01,\n",
      "       -1.56912133e-01,  2.76550829e-01, -4.43606764e-01, -8.58249068e-02,\n",
      "       -7.42322430e-02, -1.36967853e-01, -1.09685957e-02,  2.12935656e-01,\n",
      "       -3.71120960e-01, -3.85025620e-01,  3.66725206e-01,  4.16662872e-01,\n",
      "        6.93079606e-02, -1.45793021e-01,  2.14591786e-01, -4.42128003e-01,\n",
      "       -2.27390572e-01,  3.31847757e-01,  4.38231617e-01,  3.85236144e-01,\n",
      "        2.01569408e-01,  3.81249726e-01, -7.76415944e-01,  3.17389876e-01,\n",
      "       -7.24647880e-01, -2.41889000e-01,  8.81997168e-01,  3.07386786e-01,\n",
      "       -1.05384499e-01,  1.14856347e-01, -3.13494653e-01,  4.71287072e-01,\n",
      "       -3.20024401e-01,  1.24243334e-01, -4.85525690e-02,  5.51765151e-02,\n",
      "        2.72187330e-02,  2.38124222e-01,  1.37795836e-01,  3.19393665e-01,\n",
      "        1.18499689e-01,  1.97139412e-01,  8.73981509e-03, -9.25919414e-01,\n",
      "        1.38709605e-01,  1.76934928e-01, -7.34731182e-02,  3.63994360e-01,\n",
      "        5.66800714e-01,  4.47654873e-02,  1.53409690e-01, -2.50479013e-01,\n",
      "        5.88696338e-02, -2.35146582e-01,  5.42370498e-01, -2.95224011e-01,\n",
      "        7.73808956e-01, -1.00660145e+00, -1.72751844e-01,  4.30323899e-01,\n",
      "       -4.71191630e-02,  6.98740065e-01, -3.76094460e-01, -3.02671075e-01,\n",
      "       -2.73076534e-01, -3.69019955e-01,  1.03965793e-02, -3.63162279e-01,\n",
      "       -3.41075778e-01, -3.09904724e-01, -1.87360838e-01,  3.20423514e-01,\n",
      "       -1.05254557e-02,  4.77732927e-01,  3.78160328e-01, -3.29766780e-01,\n",
      "       -1.55404180e-01,  2.96309710e-01, -4.03673559e-01,  1.31438419e-01,\n",
      "       -5.95365986e-02,  1.36475235e-01, -1.96153685e-01, -1.57703385e-01,\n",
      "        2.75256336e-01,  2.84710050e-01, -1.76635176e-01,  7.71637022e-01,\n",
      "       -3.60006094e-01, -1.50629878e-01,  2.07762673e-01, -2.48246521e-01,\n",
      "        3.99051607e-02, -2.41027072e-01, -1.25024006e-01, -1.13101609e-01,\n",
      "       -4.24769241e-03, -1.22753218e-01,  1.62040055e-01, -3.94888043e-01,\n",
      "        2.28049546e-01, -2.30239436e-01, -1.12102948e-01,  2.32202962e-01,\n",
      "       -8.58129188e-02,  4.69526928e-03,  3.59428376e-02,  2.03869894e-01,\n",
      "        2.16808338e-02, -4.22943980e-01,  2.54395247e-01, -4.96870931e-03,\n",
      "        7.87923336e-01,  9.28079411e-02,  2.37909615e-01,  1.38397589e-01,\n",
      "       -1.51649565e-01,  1.10341355e-01, -5.65463006e-01, -1.76584929e-01,\n",
      "        1.13356160e-02, -6.34983301e-01,  8.85550901e-02,  2.52862006e-01,\n",
      "       -2.29413450e-01,  4.95253801e-01,  8.79585087e-01, -1.21326512e-03],\n",
      "      dtype=float32))]\n"
     ]
    }
   ],
   "source": [
    "pprint(dataset[:3])"
   ]
  },
  {
   "cell_type": "code",
   "execution_count": 55,
   "metadata": {},
   "outputs": [],
   "source": [
    "Y = []\n",
    "X = []\n",
    "\n",
    "for x in dataset:\n",
    "    Y.append(x[0])\n",
    "    X.append(x[1])"
   ]
  },
  {
   "cell_type": "code",
   "execution_count": 60,
   "metadata": {},
   "outputs": [
    {
     "name": "stdout",
     "output_type": "stream",
     "text": [
      "42255\n",
      "5\n",
      "42255\n",
      "768\n"
     ]
    }
   ],
   "source": [
    "print(len(Y))\n",
    "print(len(Y[0]))\n",
    "print(len(X))\n",
    "print(len(X[0]))"
   ]
  },
  {
   "cell_type": "code",
   "execution_count": 62,
   "metadata": {},
   "outputs": [
    {
     "name": "stderr",
     "output_type": "stream",
     "text": [
      "Using TensorFlow backend.\n"
     ]
    }
   ],
   "source": [
    "import numpy\n",
    "import pandas\n",
    "from keras.models import Sequential\n",
    "from keras.layers import Dense\n",
    "from keras.wrappers.scikit_learn import KerasClassifier\n",
    "from keras.utils import np_utils\n",
    "from sklearn.model_selection import cross_val_score\n",
    "from sklearn.model_selection import KFold\n",
    "from sklearn.preprocessing import LabelEncoder\n",
    "from sklearn.pipeline import Pipeline"
   ]
  },
  {
   "cell_type": "code",
   "execution_count": 63,
   "metadata": {},
   "outputs": [],
   "source": [
    "# encode class values as integers\n",
    "encoder = LabelEncoder()\n",
    "encoder.fit(Y)\n",
    "encoded_Y = encoder.transform(Y)\n",
    "# convert integers to dummy variables (i.e. one hot encoded)\n",
    "y_one_hot = np_utils.to_categorical(encoded_Y)"
   ]
  },
  {
   "cell_type": "code",
   "execution_count": 64,
   "metadata": {},
   "outputs": [
    {
     "data": {
      "text/plain": [
       "array([[0., 1., 0., 0.],\n",
       "       [0., 1., 0., 0.],\n",
       "       [0., 1., 0., 0.],\n",
       "       ...,\n",
       "       [0., 0., 1., 0.],\n",
       "       [0., 0., 1., 0.],\n",
       "       [0., 0., 1., 0.]], dtype=float32)"
      ]
     },
     "execution_count": 64,
     "metadata": {},
     "output_type": "execute_result"
    }
   ],
   "source": [
    "y_one_hot"
   ]
  },
  {
   "cell_type": "code",
   "execution_count": 65,
   "metadata": {},
   "outputs": [],
   "source": [
    "numpy.random.seed(7)"
   ]
  },
  {
   "cell_type": "code",
   "execution_count": 68,
   "metadata": {},
   "outputs": [],
   "source": [
    "X_data = numpy.array(X)"
   ]
  },
  {
   "cell_type": "code",
   "execution_count": 69,
   "metadata": {},
   "outputs": [
    {
     "data": {
      "text/plain": [
       "(42255, 768)"
      ]
     },
     "execution_count": 69,
     "metadata": {},
     "output_type": "execute_result"
    }
   ],
   "source": [
    "X_data.shape"
   ]
  },
  {
   "cell_type": "code",
   "execution_count": 70,
   "metadata": {},
   "outputs": [
    {
     "data": {
      "text/plain": [
       "array([[[ 0.590295  ,  0.06984732,  0.03084871, ...,  0.23810041,\n",
       "          0.2490385 ,  0.33005044]],\n",
       "\n",
       "       [[ 0.41395926,  0.10939281, -0.25555792, ...,  0.6654529 ,\n",
       "          0.30756867, -0.01532822]],\n",
       "\n",
       "       [[ 0.10382067, -0.00712498,  0.10896952, ...,  0.4952538 ,\n",
       "          0.8795851 , -0.00121327]],\n",
       "\n",
       "       ...,\n",
       "\n",
       "       [[-0.17167349, -0.35625038, -0.11082935, ..., -0.06657284,\n",
       "          0.1967138 ,  0.43955132]],\n",
       "\n",
       "       [[ 0.08400286,  0.12135616,  0.15247023, ...,  0.08758762,\n",
       "          0.6636649 ,  0.47544834]],\n",
       "\n",
       "       [[ 0.19373825,  0.10527231,  0.308477  , ...,  0.19365042,\n",
       "          0.32745823, -0.28359792]]], dtype=float32)"
      ]
     },
     "execution_count": 70,
     "metadata": {},
     "output_type": "execute_result"
    }
   ],
   "source": [
    "X_data.reshape((42255, 1, 768))"
   ]
  },
  {
   "cell_type": "code",
   "execution_count": 76,
   "metadata": {},
   "outputs": [
    {
     "data": {
      "text/plain": [
       "(42255, 768)"
      ]
     },
     "execution_count": 76,
     "metadata": {},
     "output_type": "execute_result"
    }
   ],
   "source": [
    "X_data.shape"
   ]
  },
  {
   "cell_type": "code",
   "execution_count": 73,
   "metadata": {},
   "outputs": [],
   "source": [
    "def baseline_model():\n",
    "    # create model\n",
    "    model = Sequential()\n",
    "    model.add(Dense(10, input_dim=3, activation='relu'))\n",
    "    model.add(Dense(4, activation='softmax'))\n",
    "    # Compile model\n",
    "    model.compile(loss='categorical_crossentropy', optimizer='adam', metrics=['accuracy'])\n",
    "    return model"
   ]
  },
  {
   "cell_type": "code",
   "execution_count": 74,
   "metadata": {},
   "outputs": [
    {
     "name": "stdout",
     "output_type": "stream",
     "text": [
      "_________________________________________________________________\n",
      "Layer (type)                 Output Shape              Param #   \n",
      "=================================================================\n",
      "dense_5 (Dense)              (None, 10)                40        \n",
      "_________________________________________________________________\n",
      "dense_6 (Dense)              (None, 4)                 44        \n",
      "=================================================================\n",
      "Total params: 84\n",
      "Trainable params: 84\n",
      "Non-trainable params: 0\n",
      "_________________________________________________________________\n"
     ]
    }
   ],
   "source": [
    "baseline_model().summary()"
   ]
  }
 ],
 "metadata": {
  "colab": {
   "collapsed_sections": [],
   "name": "emotionClassifier.ipynb",
   "provenance": [],
   "version": "0.3.2"
  },
  "kernelspec": {
   "display_name": "Python 3",
   "language": "python",
   "name": "python3"
  },
  "language_info": {
   "codemirror_mode": {
    "name": "ipython",
    "version": 3
   },
   "file_extension": ".py",
   "mimetype": "text/x-python",
   "name": "python",
   "nbconvert_exporter": "python",
   "pygments_lexer": "ipython3",
   "version": "3.5.5"
  }
 },
 "nbformat": 4,
 "nbformat_minor": 1
}
