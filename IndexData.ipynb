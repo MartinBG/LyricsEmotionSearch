{
 "cells": [
  {
   "cell_type": "code",
   "execution_count": 45,
   "metadata": {},
   "outputs": [],
   "source": [
    "import os\n",
    "from whoosh.index import create_in\n",
    "from whoosh.fields import Schema, TEXT, ID, NUMERIC, NGRAMWORDS\n",
    "from whoosh.analysis import StemmingAnalyzer\n",
    "import sys\n",
    "import json\n",
    " \n",
    "def createSearchableData():   \n",
    " \n",
    "    '''\n",
    "    Schema definition: title(name of file), path(as ID), content(indexed\n",
    "    but not stored),textdata (stored text content)\n",
    "    '''\n",
    "    schema = Schema(author=TEXT(stored=True),\n",
    "                    angry_score=NUMERIC(stored=True),\n",
    "                    happy_score=NUMERIC(stored=True),\n",
    "                    relaxed_score=NUMERIC(stored=True),\n",
    "                    sad_score=NUMERIC(stored=True),\n",
    "                    lyrics=NGRAMWORDS(minsize=2, maxsize=10, stored=True, field_boost=1.0, tokenizer=None, at='start', queryor=False, sortable=False),\n",
    "                    song_name=TEXT(stored=True),\n",
    "                    id=ID(stored=True))\n",
    "    \n",
    "    # Creating a index writer to add document as per schema\n",
    "    ix = create_in(\"final_data/indexdir\",schema)\n",
    "    writer = ix.writer()\n",
    " \n",
    "    with open('final_data/test.json', 'r') as file:\n",
    "        res = json.load(file)\n",
    "    \n",
    "    for x in res:\n",
    "        writer.add_document(author=x['author'], \n",
    "                            angry_score=x['angry_score'],\n",
    "                            happy_score=x['happy_score'],\n",
    "                            relaxed_score=x['relaxed_score'],\n",
    "                            sad_score=x['sad_score'],\n",
    "                            lyrics=x['lyrics'],\n",
    "                            song_name=x['song_name'],\n",
    "                            id=x['id'])\n",
    "        \n",
    "    writer.commit()"
   ]
  },
  {
   "cell_type": "code",
   "execution_count": 46,
   "metadata": {},
   "outputs": [],
   "source": [
    "createSearchableData()"
   ]
  },
  {
   "cell_type": "code",
   "execution_count": 48,
   "metadata": {},
   "outputs": [],
   "source": [
    "from whoosh.qparser import QueryParser\n",
    "from whoosh import scoring\n",
    "from whoosh.index import open_dir\n",
    " \n",
    "    \n",
    "def search(term, num):\n",
    "    ix = open_dir(\"final_data/indexdir\")\n",
    " \n",
    "    with ix.searcher(weighting=scoring.Frequency) as searcher:\n",
    "        query = QueryParser(\"lyrics\", ix.schema).parse(term)\n",
    "        results = searcher.search(query,limit=num)\n",
    "        for i in range(min(len(results), num)):\n",
    "            print(results[i])"
   ]
  },
  {
   "cell_type": "code",
   "execution_count": 53,
   "metadata": {},
   "outputs": [],
   "source": [
    "search('donky', 2)"
   ]
  }
 ],
 "metadata": {
  "kernelspec": {
   "display_name": "Python 3",
   "language": "python",
   "name": "python3"
  },
  "language_info": {
   "codemirror_mode": {
    "name": "ipython",
    "version": 3
   },
   "file_extension": ".py",
   "mimetype": "text/x-python",
   "name": "python",
   "nbconvert_exporter": "python",
   "pygments_lexer": "ipython3",
   "version": "3.5.5"
  }
 },
 "nbformat": 4,
 "nbformat_minor": 2
}
