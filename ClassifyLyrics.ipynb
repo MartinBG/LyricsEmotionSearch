{
 "cells": [
  {
   "cell_type": "code",
   "execution_count": 1,
   "metadata": {},
   "outputs": [
    {
     "name": "stderr",
     "output_type": "stream",
     "text": [
      "Using TensorFlow backend.\n"
     ]
    }
   ],
   "source": [
    "from bert_serving.client import BertClient\n",
    "from keras.models import model_from_json\n",
    "import pickle\n",
    "import json\n",
    "from IPython.display import clear_output"
   ]
  },
  {
   "cell_type": "code",
   "execution_count": 2,
   "metadata": {},
   "outputs": [],
   "source": [
    "model_name = 'model_0.7975'"
   ]
  },
  {
   "cell_type": "code",
   "execution_count": 3,
   "metadata": {},
   "outputs": [],
   "source": [
    "def split_lyrics(coll, num):\n",
    "    res = []\n",
    "    splitted = coll.split()\n",
    "    start = 0\n",
    "    end = start + num\n",
    "    length = len(splitted)\n",
    "    while start < length:\n",
    "        res.append(\" \".join(splitted[start:end]))\n",
    "        start = end\n",
    "        end += num\n",
    "    return res"
   ]
  },
  {
   "cell_type": "code",
   "execution_count": 4,
   "metadata": {},
   "outputs": [],
   "source": [
    "def normalize_lyrics(text):\n",
    "    res = text.replace('\\n', '. ')\n",
    "    res = res.replace('..', '.')\n",
    "    res = res.replace('..', '.')\n",
    "    res = split_lyrics(res, 25)\n",
    "    return res\n",
    "    "
   ]
  },
  {
   "cell_type": "code",
   "execution_count": 5,
   "metadata": {},
   "outputs": [],
   "source": [
    "def encode(normalized): \n",
    "    bc = BertClient()\n",
    "    return bc.encode(normalized)"
   ]
  },
  {
   "cell_type": "code",
   "execution_count": 6,
   "metadata": {},
   "outputs": [],
   "source": [
    "def classify(encoded, model_name):\n",
    "    json_file = open(model_name + \".json\", \"r\")\n",
    "    loaded_model_json = json_file.read()\n",
    "    json_file.close()\n",
    "\n",
    "    loaded_model = model_from_json(loaded_model_json)\n",
    "    loaded_model.load_weights(model_name + \".h5\")\n",
    "    \n",
    "    #compile_model\n",
    "    loaded_model.compile(loss='binary_crossentropy',\n",
    "              optimizer='adam',\n",
    "              metrics=['accuracy'])\n",
    "    \n",
    "    res = loaded_model.predict(encoded)\n",
    "    \n",
    "    return res"
   ]
  },
  {
   "cell_type": "code",
   "execution_count": 7,
   "metadata": {},
   "outputs": [],
   "source": [
    "# def classify_lyrics(id, lyrics, model_name):\n",
    "#     normalized = normalize_lyrics(lyrics)\n",
    "#     encoded = encode(normalized)\n",
    "    \n",
    "#     with open('classify_lyric.bin', 'wb') as out:\n",
    "#         pickle.dump(encoded, out)\n",
    "# #     res = classify(encoded, model_name)\n",
    "# #     final_res = make_final(res)\n",
    "# #     return final_res"
   ]
  },
  {
   "cell_type": "code",
   "execution_count": 8,
   "metadata": {},
   "outputs": [],
   "source": [
    "# classify_lyrics(\"There's things that you guess\\nAnd things that you know\\nThere's boys that you can trust\\nAnd girls that you don't\\n\\nThere's little things you hide\\nAnd little things that you show\\nSometimes you think you're gonna get it\\nBut you don't and that's just the way it goes\\n\\nI swear I won't tease you\\nWon't tell you no lies\\nI don't need no bible\\nJust look in my eyes\\n\\nI've waited so long baby\\nNow that we're friends\\nEvery man's got his patience\\nAnd here's where mine ends\\n\\nI want your sex\\nI want your love\\nI want your sex\\nI want your... sex\\n\\nIt's playing on my mind\\nIt's dancing on my soul\\nIt's taken so much time\\nSo why don't you just let me go\\n\\nI'd really like to try\\nOh, I'd really love to know\\nWhen you tell me you're gonna regret it\\nThen I tell you that I love you but you still say NO\\n\\nI swear I won't tease you\\nWon't tell you no lies\\nI don't need no bible\\nJust look in my eyes\\n\\nI've waited so long baby\\nOut in the cold\\nI can't take much more girl\\nI'm losing control\\n\\nI want your sex\\nI want your love\\nI want your sex\\nI want your... sex\\n\\nIt's natural\\nIt's chemical (Let's do it)\\nIt's logical\\nHabitual (Can we do it?)\\n\\nIt's sensual\\nBut most of all...\\nSex is something that we should do\\nSex is something for me and you\\n\\nSex is natural, sex is good\\nNot everybody does it\\nBut everybody should\\nSex is natural, sex is fun\\nSex is best when it's... one on one\\nOne on one\\n\\nI'm not your father\\nI'm not your brother\\nTalk to your sister\\nI am a lover\\n\\nC-c-c-c-come on\\n\\nWhat's your definition of dirty baby\\nWhat do you consider pornography\\nDon't you know I love it till it hurts me baby\\nDon't you think it's time you had sex with me\\n\\nWhat's your definition of dirty baby\\nWhat do you call pornography\\nDon't you know I love it till it hurts me baby\\nDon't you think it's time you had sex with me\\n\\nSex with me\\nSex with me\\nHave sex with me\\n\\nC-c-c-c-come on\",\n",
    "#                \"models\\\\\" + model_name)"
   ]
  },
  {
   "cell_type": "code",
   "execution_count": 9,
   "metadata": {},
   "outputs": [],
   "source": [
    "start = 2\n",
    "end = 2\n",
    "names = []\n",
    "for x in range(start, end + 1):\n",
    "    names.append(str(x) + \"_10000_batch.json\")"
   ]
  },
  {
   "cell_type": "code",
   "execution_count": null,
   "metadata": {},
   "outputs": [
    {
     "name": "stdout",
     "output_type": "stream",
     "text": [
      "8937\n"
     ]
    }
   ],
   "source": [
    "for x in names:\n",
    "    with open(\"crawler/\" + x, 'r') as file:\n",
    "        loaded = json.load(file)\n",
    "    encoded = []\n",
    "    cnt = 1\n",
    "    for y in loaded[470:]:\n",
    "        lyrics = normalize_lyrics(y['lyrics'])\n",
    "        if lyrics == []:\n",
    "            cnt+=1\n",
    "            continue;\n",
    "        encoded_lyrics = encode(lyrics)\n",
    "        encoded.append({\n",
    "            \"id\": y['id'],\n",
    "            \"author\": y['author'],\n",
    "            \"encoded\": encoded_lyrics,\n",
    "            \"lyrics\": y['lyrics'],\n",
    "            \"song\": y['song']\n",
    "        })\n",
    "        clear_output()\n",
    "        print(cnt)\n",
    "        cnt+=1\n",
    "    new_name = x.replace(\".json\", \".bin\")\n",
    "    with open(\"encoded/\" + new_name, 'wb') as file:\n",
    "        pickle.dump(encoded, file)"
   ]
  }
 ],
 "metadata": {
  "kernelspec": {
   "display_name": "Python 3",
   "language": "python",
   "name": "python3"
  },
  "language_info": {
   "codemirror_mode": {
    "name": "ipython",
    "version": 3
   },
   "file_extension": ".py",
   "mimetype": "text/x-python",
   "name": "python",
   "nbconvert_exporter": "python",
   "pygments_lexer": "ipython3",
   "version": "3.5.5"
  }
 },
 "nbformat": 4,
 "nbformat_minor": 2
}
